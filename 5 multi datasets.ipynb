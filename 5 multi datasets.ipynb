{
 "cells": [
  {
   "cell_type": "code",
   "execution_count": 1,
   "metadata": {},
   "outputs": [
    {
     "output_type": "execute_result",
     "data": {
      "text/html": "<div>\n<style scoped>\n    .dataframe tbody tr th:only-of-type {\n        vertical-align: middle;\n    }\n\n    .dataframe tbody tr th {\n        vertical-align: top;\n    }\n\n    .dataframe thead th {\n        text-align: right;\n    }\n</style>\n<table border=\"1\" class=\"dataframe\">\n  <thead>\n    <tr style=\"text-align: right;\">\n      <th></th>\n      <th>Year</th>\n      <th>Month</th>\n      <th>State</th>\n      <th>County</th>\n      <th>Rate</th>\n    </tr>\n  </thead>\n  <tbody>\n    <tr>\n      <th>0</th>\n      <td>2015</td>\n      <td>February</td>\n      <td>Mississippi</td>\n      <td>Newton County</td>\n      <td>6.1</td>\n    </tr>\n    <tr>\n      <th>1</th>\n      <td>2015</td>\n      <td>February</td>\n      <td>Mississippi</td>\n      <td>Panola County</td>\n      <td>9.4</td>\n    </tr>\n    <tr>\n      <th>2</th>\n      <td>2015</td>\n      <td>February</td>\n      <td>Mississippi</td>\n      <td>Monroe County</td>\n      <td>7.9</td>\n    </tr>\n    <tr>\n      <th>3</th>\n      <td>2015</td>\n      <td>February</td>\n      <td>Mississippi</td>\n      <td>Hinds County</td>\n      <td>6.1</td>\n    </tr>\n    <tr>\n      <th>4</th>\n      <td>2015</td>\n      <td>February</td>\n      <td>Mississippi</td>\n      <td>Kemper County</td>\n      <td>10.6</td>\n    </tr>\n  </tbody>\n</table>\n</div>",
      "text/plain": "   Year     Month        State         County  Rate\n0  2015  February  Mississippi  Newton County   6.1\n1  2015  February  Mississippi  Panola County   9.4\n2  2015  February  Mississippi  Monroe County   7.9\n3  2015  February  Mississippi   Hinds County   6.1\n4  2015  February  Mississippi  Kemper County  10.6"
     },
     "metadata": {},
     "execution_count": 1
    }
   ],
   "source": [
    "import pandas as pd\n",
    "\n",
    "unemp_county = pd.read_csv(\"D:\\d Documents\\datasets for practice\\output.csv\")\n",
    "\n",
    "unemp_county.head()"
   ]
  },
  {
   "cell_type": "markdown",
   "metadata": {},
   "source": [
    "### economists argue that setting a min wage means less people get employed. This is what we are trying to see\n",
    "### We don't have exact data as we have state minimum wages, but the min wages may differ across counties in each state. Still, we are going to try and map each county to a state and compare the rates!"
   ]
  },
  {
   "cell_type": "code",
   "execution_count": 2,
   "metadata": {},
   "outputs": [
    {
     "output_type": "execute_result",
     "data": {
      "text/html": "<div>\n<style scoped>\n    .dataframe tbody tr th:only-of-type {\n        vertical-align: middle;\n    }\n\n    .dataframe tbody tr th {\n        vertical-align: top;\n    }\n\n    .dataframe thead th {\n        text-align: right;\n    }\n</style>\n<table border=\"1\" class=\"dataframe\">\n  <thead>\n    <tr style=\"text-align: right;\">\n      <th></th>\n      <th>Alaska</th>\n      <th>Arkansas</th>\n      <th>California</th>\n      <th>Colorado</th>\n      <th>Connecticut</th>\n      <th>Delaware</th>\n      <th>District of Columbia</th>\n      <th>Federal (FLSA)</th>\n      <th>Guam</th>\n      <th>Hawaii</th>\n      <th>...</th>\n      <th>Pennsylvania</th>\n      <th>Puerto Rico</th>\n      <th>Rhode Island</th>\n      <th>South Dakota</th>\n      <th>Utah</th>\n      <th>Vermont</th>\n      <th>Washington</th>\n      <th>West Virginia</th>\n      <th>Wisconsin</th>\n      <th>Wyoming</th>\n    </tr>\n    <tr>\n      <th>Year</th>\n      <th></th>\n      <th></th>\n      <th></th>\n      <th></th>\n      <th></th>\n      <th></th>\n      <th></th>\n      <th></th>\n      <th></th>\n      <th></th>\n      <th></th>\n      <th></th>\n      <th></th>\n      <th></th>\n      <th></th>\n      <th></th>\n      <th></th>\n      <th></th>\n      <th></th>\n      <th></th>\n      <th></th>\n    </tr>\n  </thead>\n  <tbody>\n    <tr>\n      <th>2013</th>\n      <td>8.33</td>\n      <td>6.72</td>\n      <td>8.60</td>\n      <td>8.36</td>\n      <td>8.87</td>\n      <td>7.79</td>\n      <td>8.87</td>\n      <td>7.79</td>\n      <td>7.79</td>\n      <td>7.79</td>\n      <td>...</td>\n      <td>7.79</td>\n      <td>5.46</td>\n      <td>8.33</td>\n      <td>7.79</td>\n      <td>7.79</td>\n      <td>9.24</td>\n      <td>9.88</td>\n      <td>7.79</td>\n      <td>7.79</td>\n      <td>5.54</td>\n    </tr>\n    <tr>\n      <th>2014</th>\n      <td>8.20</td>\n      <td>6.61</td>\n      <td>9.52</td>\n      <td>8.46</td>\n      <td>9.20</td>\n      <td>8.20</td>\n      <td>10.05</td>\n      <td>7.67</td>\n      <td>7.67</td>\n      <td>7.67</td>\n      <td>...</td>\n      <td>7.67</td>\n      <td>5.37</td>\n      <td>8.46</td>\n      <td>7.67</td>\n      <td>7.67</td>\n      <td>9.23</td>\n      <td>9.86</td>\n      <td>7.67</td>\n      <td>7.67</td>\n      <td>5.45</td>\n    </tr>\n    <tr>\n      <th>2015</th>\n      <td>9.24</td>\n      <td>7.92</td>\n      <td>9.51</td>\n      <td>8.69</td>\n      <td>9.67</td>\n      <td>8.72</td>\n      <td>11.09</td>\n      <td>7.66</td>\n      <td>8.72</td>\n      <td>8.19</td>\n      <td>...</td>\n      <td>7.66</td>\n      <td>5.37</td>\n      <td>9.51</td>\n      <td>8.98</td>\n      <td>7.66</td>\n      <td>9.67</td>\n      <td>10.00</td>\n      <td>8.45</td>\n      <td>7.66</td>\n      <td>5.44</td>\n    </tr>\n    <tr>\n      <th>2016</th>\n      <td>10.17</td>\n      <td>8.35</td>\n      <td>10.43</td>\n      <td>8.67</td>\n      <td>10.02</td>\n      <td>8.61</td>\n      <td>12.00</td>\n      <td>7.56</td>\n      <td>8.61</td>\n      <td>8.87</td>\n      <td>...</td>\n      <td>7.56</td>\n      <td>5.30</td>\n      <td>10.02</td>\n      <td>8.92</td>\n      <td>7.56</td>\n      <td>10.02</td>\n      <td>9.88</td>\n      <td>9.13</td>\n      <td>7.56</td>\n      <td>5.37</td>\n    </tr>\n    <tr>\n      <th>2017</th>\n      <td>10.01</td>\n      <td>8.68</td>\n      <td>10.22</td>\n      <td>9.50</td>\n      <td>10.32</td>\n      <td>8.43</td>\n      <td>11.75</td>\n      <td>7.41</td>\n      <td>8.43</td>\n      <td>9.45</td>\n      <td>...</td>\n      <td>7.41</td>\n      <td>5.19</td>\n      <td>9.81</td>\n      <td>8.84</td>\n      <td>7.41</td>\n      <td>10.22</td>\n      <td>11.24</td>\n      <td>8.94</td>\n      <td>7.41</td>\n      <td>5.26</td>\n    </tr>\n  </tbody>\n</table>\n<p>5 rows × 39 columns</p>\n</div>",
      "text/plain": "      Alaska  Arkansas  California  Colorado  Connecticut  Delaware  \\\nYear                                                                  \n2013    8.33      6.72        8.60      8.36         8.87      7.79   \n2014    8.20      6.61        9.52      8.46         9.20      8.20   \n2015    9.24      7.92        9.51      8.69         9.67      8.72   \n2016   10.17      8.35       10.43      8.67        10.02      8.61   \n2017   10.01      8.68       10.22      9.50        10.32      8.43   \n\n      District of Columbia  Federal (FLSA)  Guam  Hawaii  ...  Pennsylvania  \\\nYear                                                      ...                 \n2013                  8.87            7.79  7.79    7.79  ...          7.79   \n2014                 10.05            7.67  7.67    7.67  ...          7.67   \n2015                 11.09            7.66  8.72    8.19  ...          7.66   \n2016                 12.00            7.56  8.61    8.87  ...          7.56   \n2017                 11.75            7.41  8.43    9.45  ...          7.41   \n\n      Puerto Rico  Rhode Island  South Dakota  Utah  Vermont  Washington  \\\nYear                                                                       \n2013         5.46          8.33          7.79  7.79     9.24        9.88   \n2014         5.37          8.46          7.67  7.67     9.23        9.86   \n2015         5.37          9.51          8.98  7.66     9.67       10.00   \n2016         5.30         10.02          8.92  7.56    10.02        9.88   \n2017         5.19          9.81          8.84  7.41    10.22       11.24   \n\n      West Virginia  Wisconsin  Wyoming  \nYear                                     \n2013           7.79       7.79     5.54  \n2014           7.67       7.67     5.45  \n2015           8.45       7.66     5.44  \n2016           9.13       7.56     5.37  \n2017           8.94       7.41     5.26  \n\n[5 rows x 39 columns]"
     },
     "metadata": {},
     "execution_count": 2
    }
   ],
   "source": [
    "# from part 4\n",
    "\n",
    "df = pd.read_csv(\"D:\\d Documents\\datasets for practice\\minwage.csv\")\n",
    "\n",
    "act_min_wage = pd.DataFrame()\n",
    "\n",
    "# we can iterate over all the groups too\n",
    "for name, group in df.groupby(\"State\"):\n",
    "    if act_min_wage.empty:\n",
    "        act_min_wage = group.set_index(\"Year\")[[\"Low.2018\"]].rename(columns = {\"Low.2018\" : name})\n",
    "    \n",
    "    else:\n",
    "        act_min_wage = act_min_wage.join(group.set_index(\"Year\")[[\"Low.2018\"]].rename(columns = {\"Low.2018\" : name}))\n",
    "\n",
    "act_min_wage.head() # alabama will have all 0s because of NaNs\n",
    "\n",
    "# remember how we dropped NaNs for min_wage_corr? lets do the same for the act_min_wage\n",
    "import numpy as np\n",
    "act_min_wage = act_min_wage.replace(0, np.NaN).dropna(axis = 1)\n",
    "act_min_wage.tail()"
   ]
  },
  {
   "cell_type": "markdown",
   "metadata": {},
   "source": [
    "### now how would we see the r/s bw unemployment and min wage? We should try to add a column called min wage on our unemp_county and then maybe see if there is a corr?\n",
    "\n",
    "### let's first create a functions that returns us the min wage based on state and year!"
   ]
  },
  {
   "cell_type": "code",
   "execution_count": 3,
   "metadata": {},
   "outputs": [
    {
     "output_type": "stream",
     "name": "stdout",
     "text": "Wall time: 999 µs\n"
    },
    {
     "output_type": "execute_result",
     "data": {
      "text/plain": "8.33"
     },
     "metadata": {},
     "execution_count": 3
    }
   ],
   "source": [
    "%%time\n",
    "\n",
    "def get_min_wage(year, state):\n",
    "    try:\n",
    "        return act_min_wage.loc[year][state]\n",
    "    except:\n",
    "        return np.NaN \n",
    "\n",
    "get_min_wage(2012, \"Colorado\") # finds the min wage of Colorado in they year 2012 using the act_min_wage df!"
   ]
  },
  {
   "cell_type": "markdown",
   "metadata": {},
   "source": [
    "### now map this function to unemp_county! \n",
    "### this will take quite awhile, so let's time it and do other stuff while waiting"
   ]
  },
  {
   "cell_type": "code",
   "execution_count": 8,
   "metadata": {},
   "outputs": [
    {
     "output_type": "stream",
     "name": "stdout",
     "text": "Wall time: 2min 16s\n"
    }
   ],
   "source": [
    "%%time \n",
    "# unemp_county['min_wage'] = (map(get_min_wage, unemp_county['Year'], unemp_county['State']))\n",
    "unemp_county['min_wage'] = list(map(get_min_wage, unemp_county['Year'], unemp_county['State']))\n",
    "\n"
   ]
  },
  {
   "cell_type": "markdown",
   "metadata": {},
   "source": [
    "## Why do you keep getting NaN for min_wage???\n",
    "### get_min_wage() works, map() returns a map object in min_wage but list(map()) gets you NaNs???\n",
    "\n",
    "### answer: because that's how the function was formed... Look through the entire list and you can see that NOT ALL are NaNs!"
   ]
  },
  {
   "cell_type": "code",
   "execution_count": 12,
   "metadata": {},
   "outputs": [
    {
     "output_type": "execute_result",
     "data": {
      "text/plain": "0          NaN\n1          NaN\n2          NaN\n3          NaN\n4          NaN\n5          NaN\n6          NaN\n7          NaN\n8          NaN\n9          NaN\n10         NaN\n11         NaN\n12         NaN\n13         NaN\n14         NaN\n15         NaN\n16         NaN\n17         NaN\n18         NaN\n19         NaN\n20         NaN\n21         NaN\n22         NaN\n23         NaN\n24         NaN\n25         NaN\n26         NaN\n27         NaN\n28         NaN\n29         NaN\n          ... \n885518    7.64\n885519    7.64\n885520    7.64\n885521    7.64\n885522    7.64\n885523    7.64\n885524    7.64\n885525    7.64\n885526    7.64\n885527    7.64\n885528    7.64\n885529    7.64\n885530    7.64\n885531    7.64\n885532    8.46\n885533    8.46\n885534    8.46\n885535    8.46\n885536    8.46\n885537    8.46\n885538    8.46\n885539    8.46\n885540    8.46\n885541    8.46\n885542    8.46\n885543    8.46\n885544    8.46\n885545    8.46\n885546    8.46\n885547    8.46\nName: min_wage, Length: 885548, dtype: float64"
     },
     "metadata": {},
     "execution_count": 12
    }
   ],
   "source": [
    "# unemp_county['min_wage'] = 1\n",
    "unemp_county['min_wage']\n",
    "#unemp_county.head()\n"
   ]
  },
  {
   "cell_type": "code",
   "execution_count": 15,
   "metadata": {},
   "outputs": [
    {
     "output_type": "execute_result",
     "data": {
      "text/plain": "8.46"
     },
     "metadata": {},
     "execution_count": 15
    }
   ],
   "source": [
    "# troubleshooting\n",
    "\n",
    "len(unemp_county['State']) # 885548 ie 885547 is the last row!\n",
    "\n",
    "(unemp_county['Year'][885547], unemp_county['State'][885547]) # this works\n",
    "get_min_wage(2009, 'Maine') # we can get min wage what we found\n",
    "\n",
    "act_min_wage.loc[2009]['Maine'] # we can do it without the function\n",
    "act_min_wage.loc[(unemp_county['Year'][885547])][(unemp_county['State'][885547])]"
   ]
  },
  {
   "cell_type": "code",
   "execution_count": 21,
   "metadata": {},
   "outputs": [
    {
     "output_type": "execute_result",
     "data": {
      "text/html": "<div>\n<style scoped>\n    .dataframe tbody tr th:only-of-type {\n        vertical-align: middle;\n    }\n\n    .dataframe tbody tr th {\n        vertical-align: top;\n    }\n\n    .dataframe thead th {\n        text-align: right;\n    }\n</style>\n<table border=\"1\" class=\"dataframe\">\n  <thead>\n    <tr style=\"text-align: right;\">\n      <th></th>\n      <th>Rate</th>\n      <th>min_wage</th>\n    </tr>\n  </thead>\n  <tbody>\n    <tr>\n      <th>Rate</th>\n      <td>1.000000</td>\n      <td>0.153047</td>\n    </tr>\n    <tr>\n      <th>min_wage</th>\n      <td>0.153047</td>\n      <td>1.000000</td>\n    </tr>\n  </tbody>\n</table>\n</div>",
      "text/plain": "              Rate  min_wage\nRate      1.000000  0.153047\nmin_wage  0.153047  1.000000"
     },
     "metadata": {},
     "execution_count": 21
    }
   ],
   "source": [
    "unemp_county[[\"Rate\", \"min_wage\"]].corr()\n"
   ]
  },
  {
   "cell_type": "code",
   "execution_count": 22,
   "metadata": {},
   "outputs": [
    {
     "output_type": "execute_result",
     "data": {
      "text/html": "<div>\n<style scoped>\n    .dataframe tbody tr th:only-of-type {\n        vertical-align: middle;\n    }\n\n    .dataframe tbody tr th {\n        vertical-align: top;\n    }\n\n    .dataframe thead th {\n        text-align: right;\n    }\n</style>\n<table border=\"1\" class=\"dataframe\">\n  <thead>\n    <tr style=\"text-align: right;\">\n      <th></th>\n      <th>Rate</th>\n      <th>min_wage</th>\n    </tr>\n  </thead>\n  <tbody>\n    <tr>\n      <th>Rate</th>\n      <td>9.670952</td>\n      <td>0.651586</td>\n    </tr>\n    <tr>\n      <th>min_wage</th>\n      <td>0.651586</td>\n      <td>1.874228</td>\n    </tr>\n  </tbody>\n</table>\n</div>",
      "text/plain": "              Rate  min_wage\nRate      9.670952  0.651586\nmin_wage  0.651586  1.874228"
     },
     "metadata": {},
     "execution_count": 22
    }
   ],
   "source": [
    "unemp_county.dropna()[[\"Rate\", \"min_wage\"]].cov()\n"
   ]
  },
  {
   "cell_type": "markdown",
   "metadata": {},
   "source": [
    "## Rookie mistake 1: \"Rate, min_wage\" vs \"rate\", \"min_wage\"....\n",
    "\n",
    "## Rookie mistake 2: don't just check the head, look at the entire data or also look at the tail!. They might not all be NaN!!!"
   ]
  },
  {
   "cell_type": "code",
   "execution_count": 23,
   "metadata": {},
   "outputs": [
    {
     "output_type": "execute_result",
     "data": {
      "text/html": "<div>\n<style scoped>\n    .dataframe tbody tr th:only-of-type {\n        vertical-align: middle;\n    }\n\n    .dataframe tbody tr th {\n        vertical-align: top;\n    }\n\n    .dataframe thead th {\n        text-align: right;\n    }\n</style>\n<table border=\"1\" class=\"dataframe\">\n  <thead>\n    <tr style=\"text-align: right;\">\n      <th></th>\n      <th>county</th>\n      <th>fips</th>\n      <th>cand</th>\n      <th>st</th>\n      <th>pct_report</th>\n      <th>votes</th>\n      <th>total_votes</th>\n      <th>pct</th>\n      <th>lead</th>\n    </tr>\n  </thead>\n  <tbody>\n    <tr>\n      <th>0</th>\n      <td>NaN</td>\n      <td>US</td>\n      <td>Donald Trump</td>\n      <td>US</td>\n      <td>0.9951</td>\n      <td>60350241.0</td>\n      <td>127592176.0</td>\n      <td>0.472993</td>\n      <td>Donald Trump</td>\n    </tr>\n    <tr>\n      <th>1</th>\n      <td>NaN</td>\n      <td>US</td>\n      <td>Hillary Clinton</td>\n      <td>US</td>\n      <td>0.9951</td>\n      <td>60981118.0</td>\n      <td>127592176.0</td>\n      <td>0.477938</td>\n      <td>Donald Trump</td>\n    </tr>\n    <tr>\n      <th>2</th>\n      <td>NaN</td>\n      <td>US</td>\n      <td>Gary Johnson</td>\n      <td>US</td>\n      <td>0.9951</td>\n      <td>4164589.0</td>\n      <td>127592176.0</td>\n      <td>0.032640</td>\n      <td>Donald Trump</td>\n    </tr>\n    <tr>\n      <th>3</th>\n      <td>NaN</td>\n      <td>US</td>\n      <td>Jill Stein</td>\n      <td>US</td>\n      <td>0.9951</td>\n      <td>1255968.0</td>\n      <td>127592176.0</td>\n      <td>0.009844</td>\n      <td>Donald Trump</td>\n    </tr>\n    <tr>\n      <th>4</th>\n      <td>NaN</td>\n      <td>US</td>\n      <td>Evan McMullin</td>\n      <td>US</td>\n      <td>0.9951</td>\n      <td>451636.0</td>\n      <td>127592176.0</td>\n      <td>0.003540</td>\n      <td>Donald Trump</td>\n    </tr>\n  </tbody>\n</table>\n</div>",
      "text/plain": "  county fips             cand  st  pct_report       votes  total_votes  \\\n0    NaN   US     Donald Trump  US      0.9951  60350241.0  127592176.0   \n1    NaN   US  Hillary Clinton  US      0.9951  60981118.0  127592176.0   \n2    NaN   US     Gary Johnson  US      0.9951   4164589.0  127592176.0   \n3    NaN   US       Jill Stein  US      0.9951   1255968.0  127592176.0   \n4    NaN   US    Evan McMullin  US      0.9951    451636.0  127592176.0   \n\n        pct          lead  \n0  0.472993  Donald Trump  \n1  0.477938  Donald Trump  \n2  0.032640  Donald Trump  \n3  0.009844  Donald Trump  \n4  0.003540  Donald Trump  "
     },
     "metadata": {},
     "execution_count": 23
    }
   ],
   "source": [
    "pres16 = pd.read_csv(\"D:\\d Documents\\datasets for practice\\pres16results.csv\")\n",
    "pres16.head()"
   ]
  },
  {
   "cell_type": "code",
   "execution_count": 24,
   "metadata": {},
   "outputs": [
    {
     "output_type": "execute_result",
     "data": {
      "text/html": "<div>\n<style scoped>\n    .dataframe tbody tr th:only-of-type {\n        vertical-align: middle;\n    }\n\n    .dataframe tbody tr th {\n        vertical-align: top;\n    }\n\n    .dataframe thead th {\n        text-align: right;\n    }\n</style>\n<table border=\"1\" class=\"dataframe\">\n  <thead>\n    <tr style=\"text-align: right;\">\n      <th></th>\n      <th>county</th>\n      <th>fips</th>\n      <th>cand</th>\n      <th>st</th>\n      <th>pct_report</th>\n      <th>votes</th>\n      <th>total_votes</th>\n      <th>pct</th>\n      <th>lead</th>\n    </tr>\n  </thead>\n  <tbody>\n    <tr>\n      <th>18470</th>\n      <td>Yauco Municipio</td>\n      <td>72153</td>\n      <td>NaN</td>\n      <td>NaN</td>\n      <td>NaN</td>\n      <td>NaN</td>\n      <td>NaN</td>\n      <td>NaN</td>\n      <td>NaN</td>\n    </tr>\n    <tr>\n      <th>18471</th>\n      <td>Midway Islands</td>\n      <td>74300</td>\n      <td>NaN</td>\n      <td>NaN</td>\n      <td>NaN</td>\n      <td>NaN</td>\n      <td>NaN</td>\n      <td>NaN</td>\n      <td>NaN</td>\n    </tr>\n    <tr>\n      <th>18472</th>\n      <td>St. Croix Island</td>\n      <td>78010</td>\n      <td>NaN</td>\n      <td>NaN</td>\n      <td>NaN</td>\n      <td>NaN</td>\n      <td>NaN</td>\n      <td>NaN</td>\n      <td>NaN</td>\n    </tr>\n    <tr>\n      <th>18473</th>\n      <td>St. John Island</td>\n      <td>78020</td>\n      <td>NaN</td>\n      <td>NaN</td>\n      <td>NaN</td>\n      <td>NaN</td>\n      <td>NaN</td>\n      <td>NaN</td>\n      <td>NaN</td>\n    </tr>\n    <tr>\n      <th>18474</th>\n      <td>St. Thomas Island</td>\n      <td>78030</td>\n      <td>NaN</td>\n      <td>NaN</td>\n      <td>NaN</td>\n      <td>NaN</td>\n      <td>NaN</td>\n      <td>NaN</td>\n      <td>NaN</td>\n    </tr>\n  </tbody>\n</table>\n</div>",
      "text/plain": "                  county   fips cand   st  pct_report  votes  total_votes  \\\n18470    Yauco Municipio  72153  NaN  NaN         NaN    NaN          NaN   \n18471     Midway Islands  74300  NaN  NaN         NaN    NaN          NaN   \n18472   St. Croix Island  78010  NaN  NaN         NaN    NaN          NaN   \n18473    St. John Island  78020  NaN  NaN         NaN    NaN          NaN   \n18474  St. Thomas Island  78030  NaN  NaN         NaN    NaN          NaN   \n\n       pct lead  \n18470  NaN  NaN  \n18471  NaN  NaN  \n18472  NaN  NaN  \n18473  NaN  NaN  \n18474  NaN  NaN  "
     },
     "metadata": {},
     "execution_count": 24
    }
   ],
   "source": [
    "pres16.tail()"
   ]
  },
  {
   "cell_type": "markdown",
   "metadata": {},
   "source": [
    "### doesn't seem like all counties are inputted into this dataset\n",
    "\n",
    "### in any case, let's find the top 10 candidates"
   ]
  },
  {
   "cell_type": "code",
   "execution_count": 30,
   "metadata": {},
   "outputs": [
    {
     "output_type": "stream",
     "name": "stdout",
     "text": "['Hillary Clinton' 'Gary Johnson' 'Jill Stein' 'Evan McMullin'\n 'Darrell Castle' 'Gloria La Riva' 'Rocky De La Fuente'\n ' None of these candidates' 'Richard Duncan']\n"
    }
   ],
   "source": [
    "top10yourversion = pres16['cand'][1:10].values\n",
    "\n",
    "print(top10yourversion)"
   ]
  },
  {
   "cell_type": "code",
   "execution_count": 31,
   "metadata": {},
   "outputs": [
    {
     "output_type": "stream",
     "name": "stdout",
     "text": "['Donald Trump' 'Hillary Clinton' 'Gary Johnson' 'Jill Stein'\n 'Evan McMullin' 'Darrell Castle' 'Gloria La Riva' 'Rocky De La Fuente'\n ' None of these candidates' 'Richard Duncan']\n"
    }
   ],
   "source": [
    "top_candidates = pres16.head(10)['cand'].values\n",
    "print(top_candidates)"
   ]
  },
  {
   "cell_type": "code",
   "execution_count": 59,
   "metadata": {},
   "outputs": [
    {
     "output_type": "execute_result",
     "data": {
      "text/html": "<div>\n<style scoped>\n    .dataframe tbody tr th:only-of-type {\n        vertical-align: middle;\n    }\n\n    .dataframe tbody tr th {\n        vertical-align: top;\n    }\n\n    .dataframe thead th {\n        text-align: right;\n    }\n</style>\n<table border=\"1\" class=\"dataframe\">\n  <thead>\n    <tr style=\"text-align: right;\">\n      <th></th>\n      <th>Year</th>\n      <th>Month</th>\n      <th>State</th>\n      <th>County</th>\n      <th>Rate</th>\n      <th>min_wage</th>\n    </tr>\n  </thead>\n  <tbody>\n    <tr>\n      <th>0</th>\n      <td>2015</td>\n      <td>February</td>\n      <td>Mississippi</td>\n      <td>Newton County</td>\n      <td>6.1</td>\n      <td>NaN</td>\n    </tr>\n    <tr>\n      <th>1</th>\n      <td>2015</td>\n      <td>February</td>\n      <td>Mississippi</td>\n      <td>Panola County</td>\n      <td>9.4</td>\n      <td>NaN</td>\n    </tr>\n    <tr>\n      <th>2</th>\n      <td>2015</td>\n      <td>February</td>\n      <td>Mississippi</td>\n      <td>Monroe County</td>\n      <td>7.9</td>\n      <td>NaN</td>\n    </tr>\n    <tr>\n      <th>3</th>\n      <td>2015</td>\n      <td>February</td>\n      <td>Mississippi</td>\n      <td>Hinds County</td>\n      <td>6.1</td>\n      <td>NaN</td>\n    </tr>\n    <tr>\n      <th>4</th>\n      <td>2015</td>\n      <td>February</td>\n      <td>Mississippi</td>\n      <td>Kemper County</td>\n      <td>10.6</td>\n      <td>NaN</td>\n    </tr>\n  </tbody>\n</table>\n</div>",
      "text/plain": "   Year     Month        State         County  Rate  min_wage\n0  2015  February  Mississippi  Newton County   6.1       NaN\n1  2015  February  Mississippi  Panola County   9.4       NaN\n2  2015  February  Mississippi  Monroe County   7.9       NaN\n3  2015  February  Mississippi   Hinds County   6.1       NaN\n4  2015  February  Mississippi  Kemper County  10.6       NaN"
     },
     "metadata": {},
     "execution_count": 59
    }
   ],
   "source": [
    "county_2015 = unemp_county.copy()[(unemp_county[\"Year\"] == 2015) & (unemp_county[\"Month\"] == \"February\")] # added copy() to prevent future errors!\n",
    "county_2015.head()"
   ]
  },
  {
   "cell_type": "markdown",
   "metadata": {},
   "source": [
    "### he realises there are NaNs now lol"
   ]
  },
  {
   "cell_type": "code",
   "execution_count": 60,
   "metadata": {},
   "outputs": [
    {
     "output_type": "execute_result",
     "data": {
      "text/plain": "array(['US', 'CA', 'FL', 'TX', 'NY', 'PA', 'IL', 'OH', 'MI', 'NC', 'GA',\n       'VA', 'NJ', 'MA', 'WI', 'MN', 'MO', 'WA', 'IN', 'CO', 'TN', 'MD',\n       'SC', 'AL', 'AZ', 'LA', 'KY', 'OR', 'CT', 'IA', 'OK', 'MS', 'KS',\n       'NV', 'AR', 'UT', 'NE', 'NM', 'ME', 'NH', 'WV', 'ID', 'MT', 'RI',\n       'DE', 'HI', 'SD', 'ND', 'VT', 'DC', 'WY', 'AK', nan], dtype=object)"
     },
     "metadata": {},
     "execution_count": 60
    }
   ],
   "source": [
    "pres16['st'].unique()"
   ]
  },
  {
   "cell_type": "markdown",
   "metadata": {},
   "source": [
    "### as you can see, pres16 states are postal codes while those of unemp_county are full names. so let's change that!"
   ]
  },
  {
   "cell_type": "code",
   "execution_count": 41,
   "metadata": {},
   "outputs": [],
   "source": [
    "state_abbv = pd.read_csv(\"D:\\d Documents\\datasets for practice\\state_abbv.csv\", index_col=0) # ie letting the name become the index"
   ]
  },
  {
   "cell_type": "code",
   "execution_count": 45,
   "metadata": {},
   "outputs": [],
   "source": [
    "state_abbv.head()\n",
    "state_abbv = state_abbv[[\"Postal Code\"]] # this means that we only want the postal code AND THE INDEX WHICH IS THE NAME OF THE STATES!"
   ]
  },
  {
   "cell_type": "code",
   "execution_count": 46,
   "metadata": {},
   "outputs": [
    {
     "output_type": "execute_result",
     "data": {
      "text/html": "<div>\n<style scoped>\n    .dataframe tbody tr th:only-of-type {\n        vertical-align: middle;\n    }\n\n    .dataframe tbody tr th {\n        vertical-align: top;\n    }\n\n    .dataframe thead th {\n        text-align: right;\n    }\n</style>\n<table border=\"1\" class=\"dataframe\">\n  <thead>\n    <tr style=\"text-align: right;\">\n      <th></th>\n      <th>Postal Code</th>\n    </tr>\n    <tr>\n      <th>State/District</th>\n      <th></th>\n    </tr>\n  </thead>\n  <tbody>\n    <tr>\n      <th>Alabama</th>\n      <td>AL</td>\n    </tr>\n    <tr>\n      <th>Alaska</th>\n      <td>AK</td>\n    </tr>\n    <tr>\n      <th>Arizona</th>\n      <td>AZ</td>\n    </tr>\n    <tr>\n      <th>Arkansas</th>\n      <td>AR</td>\n    </tr>\n    <tr>\n      <th>California</th>\n      <td>CA</td>\n    </tr>\n  </tbody>\n</table>\n</div>",
      "text/plain": "               Postal Code\nState/District            \nAlabama                 AL\nAlaska                  AK\nArizona                 AZ\nArkansas                AR\nCalifornia              CA"
     },
     "metadata": {},
     "execution_count": 46
    }
   ],
   "source": [
    "state_abbv.head() "
   ]
  },
  {
   "cell_type": "code",
   "execution_count": 49,
   "metadata": {},
   "outputs": [
    {
     "output_type": "execute_result",
     "data": {
      "text/plain": "{'Alabama': 'AL',\n 'Alaska': 'AK',\n 'Arizona': 'AZ',\n 'Arkansas': 'AR',\n 'California': 'CA',\n 'Colorado': 'CO',\n 'Connecticut': 'CT',\n 'Delaware': 'DE',\n 'District of Columbia': 'DC',\n 'Florida': 'FL',\n 'Georgia': 'GA',\n 'Hawaii': 'HI',\n 'Idaho': 'ID',\n 'Illinois': 'IL',\n 'Indiana': 'IN',\n 'Iowa': 'IA',\n 'Kansas': 'KS',\n 'Kentucky': 'KY',\n 'Louisiana': 'LA',\n 'Maine': 'ME',\n 'Maryland': 'MD',\n 'Massachusetts': 'MA',\n 'Michigan': 'MI',\n 'Minnesota': 'MN',\n 'Mississippi': 'MS',\n 'Missouri': 'MO',\n 'Montana': 'MT',\n 'Nebraska': 'NE',\n 'Nevada': 'NV',\n 'New Hampshire': 'NH',\n 'New Jersey': 'NJ',\n 'New Mexico': 'NM',\n 'New York': 'NY',\n 'North Carolina': 'NC',\n 'North Dakota': 'ND',\n 'Ohio': 'OH',\n 'Oklahoma': 'OK',\n 'Oregon': 'OR',\n 'Pennsylvania': 'PA',\n 'Rhode Island': 'RI',\n 'South Carolina': 'SC',\n 'South Dakota': 'SD',\n 'Tennessee': 'TN',\n 'Texas': 'TX',\n 'Utah': 'UT',\n 'Vermont': 'VT',\n 'Virginia': 'VA',\n 'Washington': 'WA',\n 'West Virginia': 'WV',\n 'Wisconsin': 'WI',\n 'Wyoming': 'WY'}"
     },
     "metadata": {},
     "execution_count": 49
    }
   ],
   "source": [
    "state_abbv_dict = state_abbv.to_dict()['Postal Code'] # remember the issure from last time about the dict being in Postal code!\n",
    "state_abbv_dict"
   ]
  },
  {
   "cell_type": "code",
   "execution_count": 61,
   "metadata": {},
   "outputs": [],
   "source": [
    "county_2015['State'] = county_2015['State'].map(state_abbv_dict)"
   ]
  },
  {
   "cell_type": "code",
   "execution_count": 62,
   "metadata": {},
   "outputs": [
    {
     "output_type": "execute_result",
     "data": {
      "text/html": "<div>\n<style scoped>\n    .dataframe tbody tr th:only-of-type {\n        vertical-align: middle;\n    }\n\n    .dataframe tbody tr th {\n        vertical-align: top;\n    }\n\n    .dataframe thead th {\n        text-align: right;\n    }\n</style>\n<table border=\"1\" class=\"dataframe\">\n  <thead>\n    <tr style=\"text-align: right;\">\n      <th></th>\n      <th>Year</th>\n      <th>Month</th>\n      <th>State</th>\n      <th>County</th>\n      <th>Rate</th>\n      <th>min_wage</th>\n    </tr>\n  </thead>\n  <tbody>\n    <tr>\n      <th>0</th>\n      <td>2015</td>\n      <td>February</td>\n      <td>MS</td>\n      <td>Newton County</td>\n      <td>6.1</td>\n      <td>NaN</td>\n    </tr>\n    <tr>\n      <th>1</th>\n      <td>2015</td>\n      <td>February</td>\n      <td>MS</td>\n      <td>Panola County</td>\n      <td>9.4</td>\n      <td>NaN</td>\n    </tr>\n    <tr>\n      <th>2</th>\n      <td>2015</td>\n      <td>February</td>\n      <td>MS</td>\n      <td>Monroe County</td>\n      <td>7.9</td>\n      <td>NaN</td>\n    </tr>\n    <tr>\n      <th>3</th>\n      <td>2015</td>\n      <td>February</td>\n      <td>MS</td>\n      <td>Hinds County</td>\n      <td>6.1</td>\n      <td>NaN</td>\n    </tr>\n    <tr>\n      <th>4</th>\n      <td>2015</td>\n      <td>February</td>\n      <td>MS</td>\n      <td>Kemper County</td>\n      <td>10.6</td>\n      <td>NaN</td>\n    </tr>\n  </tbody>\n</table>\n</div>",
      "text/plain": "   Year     Month State         County  Rate  min_wage\n0  2015  February    MS  Newton County   6.1       NaN\n1  2015  February    MS  Panola County   9.4       NaN\n2  2015  February    MS  Monroe County   7.9       NaN\n3  2015  February    MS   Hinds County   6.1       NaN\n4  2015  February    MS  Kemper County  10.6       NaN"
     },
     "metadata": {},
     "execution_count": 62
    }
   ],
   "source": [
    "county_2015.head()"
   ]
  },
  {
   "cell_type": "markdown",
   "metadata": {},
   "source": [
    "### he seems to get a warning for not copying but you don't? In any case, you get no warning but IF YOU RUN THE CODE TWICE, ALL YOUR STATES BECOMES NaNs!!!\n",
    "\n",
    "### see line 59 for the updated code!"
   ]
  },
  {
   "cell_type": "code",
   "execution_count": 64,
   "metadata": {},
   "outputs": [
    {
     "output_type": "stream",
     "name": "stdout",
     "text": "2802\n18475\n"
    }
   ],
   "source": [
    "print(len(county_2015))\n",
    "print(len(pres16))"
   ]
  },
  {
   "cell_type": "markdown",
   "metadata": {},
   "source": [
    "## merge() and join() have the same implementation but different defaults!!!\n",
    "\n",
    "### we want to merge county_2015 with pres16 based on State and County. We need to make the column names identical. Let's fix that first"
   ]
  },
  {
   "cell_type": "code",
   "execution_count": 66,
   "metadata": {},
   "outputs": [
    {
     "output_type": "execute_result",
     "data": {
      "text/html": "<div>\n<style scoped>\n    .dataframe tbody tr th:only-of-type {\n        vertical-align: middle;\n    }\n\n    .dataframe tbody tr th {\n        vertical-align: top;\n    }\n\n    .dataframe thead th {\n        text-align: right;\n    }\n</style>\n<table border=\"1\" class=\"dataframe\">\n  <thead>\n    <tr style=\"text-align: right;\">\n      <th></th>\n      <th>Year</th>\n      <th>Month</th>\n      <th>State</th>\n      <th>County</th>\n      <th>Rate</th>\n      <th>min_wage</th>\n    </tr>\n  </thead>\n  <tbody>\n    <tr>\n      <th>0</th>\n      <td>2015</td>\n      <td>February</td>\n      <td>MS</td>\n      <td>Newton County</td>\n      <td>6.1</td>\n      <td>NaN</td>\n    </tr>\n    <tr>\n      <th>1</th>\n      <td>2015</td>\n      <td>February</td>\n      <td>MS</td>\n      <td>Panola County</td>\n      <td>9.4</td>\n      <td>NaN</td>\n    </tr>\n    <tr>\n      <th>2</th>\n      <td>2015</td>\n      <td>February</td>\n      <td>MS</td>\n      <td>Monroe County</td>\n      <td>7.9</td>\n      <td>NaN</td>\n    </tr>\n    <tr>\n      <th>3</th>\n      <td>2015</td>\n      <td>February</td>\n      <td>MS</td>\n      <td>Hinds County</td>\n      <td>6.1</td>\n      <td>NaN</td>\n    </tr>\n    <tr>\n      <th>4</th>\n      <td>2015</td>\n      <td>February</td>\n      <td>MS</td>\n      <td>Kemper County</td>\n      <td>10.6</td>\n      <td>NaN</td>\n    </tr>\n  </tbody>\n</table>\n</div>",
      "text/plain": "   Year     Month State         County  Rate  min_wage\n0  2015  February    MS  Newton County   6.1       NaN\n1  2015  February    MS  Panola County   9.4       NaN\n2  2015  February    MS  Monroe County   7.9       NaN\n3  2015  February    MS   Hinds County   6.1       NaN\n4  2015  February    MS  Kemper County  10.6       NaN"
     },
     "metadata": {},
     "execution_count": 66
    }
   ],
   "source": [
    "county_2015.head() # has \"County\" and \"State\""
   ]
  },
  {
   "cell_type": "code",
   "execution_count": 69,
   "metadata": {},
   "outputs": [
    {
     "output_type": "execute_result",
     "data": {
      "text/html": "<div>\n<style scoped>\n    .dataframe tbody tr th:only-of-type {\n        vertical-align: middle;\n    }\n\n    .dataframe tbody tr th {\n        vertical-align: top;\n    }\n\n    .dataframe thead th {\n        text-align: right;\n    }\n</style>\n<table border=\"1\" class=\"dataframe\">\n  <thead>\n    <tr style=\"text-align: right;\">\n      <th></th>\n      <th>county</th>\n      <th>fips</th>\n      <th>cand</th>\n      <th>st</th>\n      <th>pct_report</th>\n      <th>votes</th>\n      <th>total_votes</th>\n      <th>pct</th>\n      <th>lead</th>\n    </tr>\n  </thead>\n  <tbody>\n    <tr>\n      <th>18470</th>\n      <td>Yauco Municipio</td>\n      <td>72153</td>\n      <td>NaN</td>\n      <td>NaN</td>\n      <td>NaN</td>\n      <td>NaN</td>\n      <td>NaN</td>\n      <td>NaN</td>\n      <td>NaN</td>\n    </tr>\n    <tr>\n      <th>18471</th>\n      <td>Midway Islands</td>\n      <td>74300</td>\n      <td>NaN</td>\n      <td>NaN</td>\n      <td>NaN</td>\n      <td>NaN</td>\n      <td>NaN</td>\n      <td>NaN</td>\n      <td>NaN</td>\n    </tr>\n    <tr>\n      <th>18472</th>\n      <td>St. Croix Island</td>\n      <td>78010</td>\n      <td>NaN</td>\n      <td>NaN</td>\n      <td>NaN</td>\n      <td>NaN</td>\n      <td>NaN</td>\n      <td>NaN</td>\n      <td>NaN</td>\n    </tr>\n    <tr>\n      <th>18473</th>\n      <td>St. John Island</td>\n      <td>78020</td>\n      <td>NaN</td>\n      <td>NaN</td>\n      <td>NaN</td>\n      <td>NaN</td>\n      <td>NaN</td>\n      <td>NaN</td>\n      <td>NaN</td>\n    </tr>\n    <tr>\n      <th>18474</th>\n      <td>St. Thomas Island</td>\n      <td>78030</td>\n      <td>NaN</td>\n      <td>NaN</td>\n      <td>NaN</td>\n      <td>NaN</td>\n      <td>NaN</td>\n      <td>NaN</td>\n      <td>NaN</td>\n    </tr>\n  </tbody>\n</table>\n</div>",
      "text/plain": "                  county   fips cand   st  pct_report  votes  total_votes  \\\n18470    Yauco Municipio  72153  NaN  NaN         NaN    NaN          NaN   \n18471     Midway Islands  74300  NaN  NaN         NaN    NaN          NaN   \n18472   St. Croix Island  78010  NaN  NaN         NaN    NaN          NaN   \n18473    St. John Island  78020  NaN  NaN         NaN    NaN          NaN   \n18474  St. Thomas Island  78030  NaN  NaN         NaN    NaN          NaN   \n\n       pct lead  \n18470  NaN  NaN  \n18471  NaN  NaN  \n18472  NaN  NaN  \n18473  NaN  NaN  \n18474  NaN  NaN  "
     },
     "metadata": {},
     "execution_count": 69
    }
   ],
   "source": [
    "pres16.tail() # has \"county\" and \"st\". observe how they are all lower case vs county_2015"
   ]
  },
  {
   "cell_type": "code",
   "execution_count": 71,
   "metadata": {},
   "outputs": [
    {
     "output_type": "execute_result",
     "data": {
      "text/html": "<div>\n<style scoped>\n    .dataframe tbody tr th:only-of-type {\n        vertical-align: middle;\n    }\n\n    .dataframe tbody tr th {\n        vertical-align: top;\n    }\n\n    .dataframe thead th {\n        text-align: right;\n    }\n</style>\n<table border=\"1\" class=\"dataframe\">\n  <thead>\n    <tr style=\"text-align: right;\">\n      <th></th>\n      <th>County</th>\n      <th>fips</th>\n      <th>cand</th>\n      <th>State</th>\n      <th>pct_report</th>\n      <th>votes</th>\n      <th>total_votes</th>\n      <th>pct</th>\n      <th>lead</th>\n    </tr>\n  </thead>\n  <tbody>\n    <tr>\n      <th>0</th>\n      <td>NaN</td>\n      <td>US</td>\n      <td>Donald Trump</td>\n      <td>US</td>\n      <td>0.9951</td>\n      <td>60350241.0</td>\n      <td>127592176.0</td>\n      <td>0.472993</td>\n      <td>Donald Trump</td>\n    </tr>\n    <tr>\n      <th>1</th>\n      <td>NaN</td>\n      <td>US</td>\n      <td>Hillary Clinton</td>\n      <td>US</td>\n      <td>0.9951</td>\n      <td>60981118.0</td>\n      <td>127592176.0</td>\n      <td>0.477938</td>\n      <td>Donald Trump</td>\n    </tr>\n    <tr>\n      <th>2</th>\n      <td>NaN</td>\n      <td>US</td>\n      <td>Gary Johnson</td>\n      <td>US</td>\n      <td>0.9951</td>\n      <td>4164589.0</td>\n      <td>127592176.0</td>\n      <td>0.032640</td>\n      <td>Donald Trump</td>\n    </tr>\n    <tr>\n      <th>3</th>\n      <td>NaN</td>\n      <td>US</td>\n      <td>Jill Stein</td>\n      <td>US</td>\n      <td>0.9951</td>\n      <td>1255968.0</td>\n      <td>127592176.0</td>\n      <td>0.009844</td>\n      <td>Donald Trump</td>\n    </tr>\n    <tr>\n      <th>4</th>\n      <td>NaN</td>\n      <td>US</td>\n      <td>Evan McMullin</td>\n      <td>US</td>\n      <td>0.9951</td>\n      <td>451636.0</td>\n      <td>127592176.0</td>\n      <td>0.003540</td>\n      <td>Donald Trump</td>\n    </tr>\n  </tbody>\n</table>\n</div>",
      "text/plain": "  County fips             cand State  pct_report       votes  total_votes  \\\n0    NaN   US     Donald Trump    US      0.9951  60350241.0  127592176.0   \n1    NaN   US  Hillary Clinton    US      0.9951  60981118.0  127592176.0   \n2    NaN   US     Gary Johnson    US      0.9951   4164589.0  127592176.0   \n3    NaN   US       Jill Stein    US      0.9951   1255968.0  127592176.0   \n4    NaN   US    Evan McMullin    US      0.9951    451636.0  127592176.0   \n\n        pct          lead  \n0  0.472993  Donald Trump  \n1  0.477938  Donald Trump  \n2  0.032640  Donald Trump  \n3  0.009844  Donald Trump  \n4  0.003540  Donald Trump  "
     },
     "metadata": {},
     "execution_count": 71
    }
   ],
   "source": [
    "pres16.rename(columns = {'county':\"County\", \"st\":\"State\"}, inplace = True)\n",
    "pres16.head()"
   ]
  },
  {
   "cell_type": "markdown",
   "metadata": {},
   "source": [
    "## joining by index and multiple indexes\n",
    "### the easiest way to join is by index. We can actually have more than 1 index ie county and state!"
   ]
  },
  {
   "cell_type": "code",
   "execution_count": 72,
   "metadata": {},
   "outputs": [],
   "source": [
    "for df in [county_2015, pres16]:\n",
    "    df.set_index([\"County\", \"State\"], inplace = True)"
   ]
  },
  {
   "cell_type": "code",
   "execution_count": 76,
   "metadata": {},
   "outputs": [
    {
     "output_type": "execute_result",
     "data": {
      "text/html": "<div>\n<style scoped>\n    .dataframe tbody tr th:only-of-type {\n        vertical-align: middle;\n    }\n\n    .dataframe tbody tr th {\n        vertical-align: top;\n    }\n\n    .dataframe thead th {\n        text-align: right;\n    }\n</style>\n<table border=\"1\" class=\"dataframe\">\n  <thead>\n    <tr style=\"text-align: right;\">\n      <th></th>\n      <th></th>\n      <th>fips</th>\n      <th>cand</th>\n      <th>pct_report</th>\n      <th>votes</th>\n      <th>total_votes</th>\n      <th>pct</th>\n      <th>lead</th>\n    </tr>\n    <tr>\n      <th>County</th>\n      <th>State</th>\n      <th></th>\n      <th></th>\n      <th></th>\n      <th></th>\n      <th></th>\n      <th></th>\n      <th></th>\n    </tr>\n  </thead>\n  <tbody>\n    <tr>\n      <th rowspan=\"10\" valign=\"top\">NaN</th>\n      <th>US</th>\n      <td>US</td>\n      <td>Donald Trump</td>\n      <td>0.9951</td>\n      <td>60350241.0</td>\n      <td>127592176.0</td>\n      <td>0.472993</td>\n      <td>Donald Trump</td>\n    </tr>\n    <tr>\n      <th>US</th>\n      <td>US</td>\n      <td>Hillary Clinton</td>\n      <td>0.9951</td>\n      <td>60981118.0</td>\n      <td>127592176.0</td>\n      <td>0.477938</td>\n      <td>Donald Trump</td>\n    </tr>\n    <tr>\n      <th>US</th>\n      <td>US</td>\n      <td>Gary Johnson</td>\n      <td>0.9951</td>\n      <td>4164589.0</td>\n      <td>127592176.0</td>\n      <td>0.032640</td>\n      <td>Donald Trump</td>\n    </tr>\n    <tr>\n      <th>US</th>\n      <td>US</td>\n      <td>Jill Stein</td>\n      <td>0.9951</td>\n      <td>1255968.0</td>\n      <td>127592176.0</td>\n      <td>0.009844</td>\n      <td>Donald Trump</td>\n    </tr>\n    <tr>\n      <th>US</th>\n      <td>US</td>\n      <td>Evan McMullin</td>\n      <td>0.9951</td>\n      <td>451636.0</td>\n      <td>127592176.0</td>\n      <td>0.003540</td>\n      <td>Donald Trump</td>\n    </tr>\n    <tr>\n      <th>US</th>\n      <td>US</td>\n      <td>Darrell Castle</td>\n      <td>0.9951</td>\n      <td>180877.0</td>\n      <td>127592176.0</td>\n      <td>0.001418</td>\n      <td>Donald Trump</td>\n    </tr>\n    <tr>\n      <th>US</th>\n      <td>US</td>\n      <td>Gloria La Riva</td>\n      <td>0.9951</td>\n      <td>48308.0</td>\n      <td>127592176.0</td>\n      <td>0.000379</td>\n      <td>Donald Trump</td>\n    </tr>\n    <tr>\n      <th>US</th>\n      <td>US</td>\n      <td>Rocky De La Fuente</td>\n      <td>0.9951</td>\n      <td>32120.0</td>\n      <td>127592176.0</td>\n      <td>0.000252</td>\n      <td>Donald Trump</td>\n    </tr>\n    <tr>\n      <th>US</th>\n      <td>US</td>\n      <td>None of these candidates</td>\n      <td>0.9951</td>\n      <td>28824.0</td>\n      <td>127592176.0</td>\n      <td>0.000226</td>\n      <td>Donald Trump</td>\n    </tr>\n    <tr>\n      <th>US</th>\n      <td>US</td>\n      <td>Richard Duncan</td>\n      <td>0.9951</td>\n      <td>23501.0</td>\n      <td>127592176.0</td>\n      <td>0.000184</td>\n      <td>Donald Trump</td>\n    </tr>\n  </tbody>\n</table>\n</div>",
      "text/plain": "             fips                       cand  pct_report       votes  \\\nCounty State                                                           \nNaN    US      US               Donald Trump      0.9951  60350241.0   \n       US      US            Hillary Clinton      0.9951  60981118.0   \n       US      US               Gary Johnson      0.9951   4164589.0   \n       US      US                 Jill Stein      0.9951   1255968.0   \n       US      US              Evan McMullin      0.9951    451636.0   \n       US      US             Darrell Castle      0.9951    180877.0   \n       US      US             Gloria La Riva      0.9951     48308.0   \n       US      US         Rocky De La Fuente      0.9951     32120.0   \n       US      US   None of these candidates      0.9951     28824.0   \n       US      US             Richard Duncan      0.9951     23501.0   \n\n              total_votes       pct          lead  \nCounty State                                       \nNaN    US     127592176.0  0.472993  Donald Trump  \n       US     127592176.0  0.477938  Donald Trump  \n       US     127592176.0  0.032640  Donald Trump  \n       US     127592176.0  0.009844  Donald Trump  \n       US     127592176.0  0.003540  Donald Trump  \n       US     127592176.0  0.001418  Donald Trump  \n       US     127592176.0  0.000379  Donald Trump  \n       US     127592176.0  0.000252  Donald Trump  \n       US     127592176.0  0.000226  Donald Trump  \n       US     127592176.0  0.000184  Donald Trump  "
     },
     "metadata": {},
     "execution_count": 76
    }
   ],
   "source": [
    "pres16.head(10)"
   ]
  },
  {
   "cell_type": "markdown",
   "metadata": {},
   "source": [
    "### we are going to focus on just Trump for now. their r/s to min wage might be different for each candidate eg libertarians ==> no min wage. But let's see the main diff bw trump and hilary"
   ]
  },
  {
   "cell_type": "code",
   "execution_count": 85,
   "metadata": {},
   "outputs": [
    {
     "output_type": "execute_result",
     "data": {
      "text/html": "<div>\n<style scoped>\n    .dataframe tbody tr th:only-of-type {\n        vertical-align: middle;\n    }\n\n    .dataframe tbody tr th {\n        vertical-align: top;\n    }\n\n    .dataframe thead th {\n        text-align: right;\n    }\n</style>\n<table border=\"1\" class=\"dataframe\">\n  <thead>\n    <tr style=\"text-align: right;\">\n      <th></th>\n      <th></th>\n      <th>pct</th>\n    </tr>\n    <tr>\n      <th>County</th>\n      <th>State</th>\n      <th></th>\n    </tr>\n  </thead>\n  <tbody>\n    <tr>\n      <th rowspan=\"5\" valign=\"top\">NaN</th>\n      <th>US</th>\n      <td>0.472993</td>\n    </tr>\n    <tr>\n      <th>CA</th>\n      <td>0.330641</td>\n    </tr>\n    <tr>\n      <th>FL</th>\n      <td>0.490640</td>\n    </tr>\n    <tr>\n      <th>TX</th>\n      <td>0.525830</td>\n    </tr>\n    <tr>\n      <th>NY</th>\n      <td>0.374752</td>\n    </tr>\n  </tbody>\n</table>\n</div>",
      "text/plain": "                   pct\nCounty State          \nNaN    US     0.472993\n       CA     0.330641\n       FL     0.490640\n       TX     0.525830\n       NY     0.374752"
     },
     "metadata": {},
     "execution_count": 85
    }
   ],
   "source": [
    "# only run this once!\n",
    "# pres16 = pres16[pres16['cand'] == \"Donald Trump\"] # filters out only for Trump\n",
    "pres16 = pres16[[\"pct\"]] # only want the \"pct\" column as a DATAFRAME\n",
    "pres16.dropna(inplace = True)\n",
    "pres16.head()"
   ]
  },
  {
   "cell_type": "code",
   "execution_count": 88,
   "metadata": {},
   "outputs": [
    {
     "output_type": "execute_result",
     "data": {
      "text/html": "<div>\n<style scoped>\n    .dataframe tbody tr th:only-of-type {\n        vertical-align: middle;\n    }\n\n    .dataframe tbody tr th {\n        vertical-align: top;\n    }\n\n    .dataframe thead th {\n        text-align: right;\n    }\n</style>\n<table border=\"1\" class=\"dataframe\">\n  <thead>\n    <tr style=\"text-align: right;\">\n      <th></th>\n      <th></th>\n      <th>Year</th>\n      <th>Month</th>\n      <th>Rate</th>\n      <th>min_wage</th>\n      <th>pct</th>\n    </tr>\n    <tr>\n      <th>County</th>\n      <th>State</th>\n      <th></th>\n      <th></th>\n      <th></th>\n      <th></th>\n      <th></th>\n    </tr>\n  </thead>\n  <tbody>\n    <tr>\n      <th>Major County</th>\n      <th>OK</th>\n      <td>2015</td>\n      <td>February</td>\n      <td>2.6</td>\n      <td>2.11</td>\n      <td>0.864960</td>\n    </tr>\n    <tr>\n      <th>Pottawatomie County</th>\n      <th>OK</th>\n      <td>2015</td>\n      <td>February</td>\n      <td>4.5</td>\n      <td>2.11</td>\n      <td>0.701342</td>\n    </tr>\n    <tr>\n      <th>Johnston County</th>\n      <th>OK</th>\n      <td>2015</td>\n      <td>February</td>\n      <td>6.5</td>\n      <td>2.11</td>\n      <td>0.770057</td>\n    </tr>\n    <tr>\n      <th>Jefferson County</th>\n      <th>OK</th>\n      <td>2015</td>\n      <td>February</td>\n      <td>5.0</td>\n      <td>2.11</td>\n      <td>0.812367</td>\n    </tr>\n    <tr>\n      <th>Beaver County</th>\n      <th>OK</th>\n      <td>2015</td>\n      <td>February</td>\n      <td>2.8</td>\n      <td>2.11</td>\n      <td>0.888243</td>\n    </tr>\n  </tbody>\n</table>\n</div>",
      "text/plain": "                           Year     Month  Rate  min_wage       pct\nCounty              State                                          \nMajor County        OK     2015  February   2.6      2.11  0.864960\nPottawatomie County OK     2015  February   4.5      2.11  0.701342\nJohnston County     OK     2015  February   6.5      2.11  0.770057\nJefferson County    OK     2015  February   5.0      2.11  0.812367\nBeaver County       OK     2015  February   2.8      2.11  0.888243"
     },
     "metadata": {},
     "execution_count": 88
    }
   ],
   "source": [
    "# merging them all together\n",
    "\n",
    "all_together = county_2015.merge(pres16, on=[\"County\", \"State\"])\n",
    "all_together.dropna(inplace=True)\n",
    "all_together.head()"
   ]
  },
  {
   "cell_type": "code",
   "execution_count": 90,
   "metadata": {},
   "outputs": [
    {
     "output_type": "error",
     "ename": "KeyError",
     "evalue": "\"['Year'] not found in axis\"",
     "traceback": [
      "\u001b[1;31m---------------------------------------------------------------------------\u001b[0m",
      "\u001b[1;31mKeyError\u001b[0m                                  Traceback (most recent call last)",
      "\u001b[1;32m<ipython-input-90-4ec83d6f5167>\u001b[0m in \u001b[0;36m<module>\u001b[1;34m\u001b[0m\n\u001b[1;32m----> 1\u001b[1;33m \u001b[0mall_together\u001b[0m\u001b[1;33m.\u001b[0m\u001b[0mdrop\u001b[0m\u001b[1;33m(\u001b[0m\u001b[1;34m\"Year\"\u001b[0m\u001b[1;33m,\u001b[0m \u001b[0maxis\u001b[0m\u001b[1;33m=\u001b[0m\u001b[1;36m1\u001b[0m\u001b[1;33m,\u001b[0m \u001b[0minplace\u001b[0m\u001b[1;33m=\u001b[0m\u001b[1;32mTrue\u001b[0m\u001b[1;33m)\u001b[0m \u001b[1;31m# removes the COL ie axis = 1\u001b[0m\u001b[1;33m\u001b[0m\u001b[0m\n\u001b[0m",
      "\u001b[1;32m~\\AppData\\Local\\Programs\\Python\\Python35\\lib\\site-packages\\pandas\\core\\frame.py\u001b[0m in \u001b[0;36mdrop\u001b[1;34m(self, labels, axis, index, columns, level, inplace, errors)\u001b[0m\n\u001b[0;32m   3938\u001b[0m                                            \u001b[0mindex\u001b[0m\u001b[1;33m=\u001b[0m\u001b[0mindex\u001b[0m\u001b[1;33m,\u001b[0m \u001b[0mcolumns\u001b[0m\u001b[1;33m=\u001b[0m\u001b[0mcolumns\u001b[0m\u001b[1;33m,\u001b[0m\u001b[1;33m\u001b[0m\u001b[0m\n\u001b[0;32m   3939\u001b[0m                                            \u001b[0mlevel\u001b[0m\u001b[1;33m=\u001b[0m\u001b[0mlevel\u001b[0m\u001b[1;33m,\u001b[0m \u001b[0minplace\u001b[0m\u001b[1;33m=\u001b[0m\u001b[0minplace\u001b[0m\u001b[1;33m,\u001b[0m\u001b[1;33m\u001b[0m\u001b[0m\n\u001b[1;32m-> 3940\u001b[1;33m                                            errors=errors)\n\u001b[0m\u001b[0;32m   3941\u001b[0m \u001b[1;33m\u001b[0m\u001b[0m\n\u001b[0;32m   3942\u001b[0m     @rewrite_axis_style_signature('mapper', [('copy', True),\n",
      "\u001b[1;32m~\\AppData\\Local\\Programs\\Python\\Python35\\lib\\site-packages\\pandas\\core\\generic.py\u001b[0m in \u001b[0;36mdrop\u001b[1;34m(self, labels, axis, index, columns, level, inplace, errors)\u001b[0m\n\u001b[0;32m   3778\u001b[0m         \u001b[1;32mfor\u001b[0m \u001b[0maxis\u001b[0m\u001b[1;33m,\u001b[0m \u001b[0mlabels\u001b[0m \u001b[1;32min\u001b[0m \u001b[0maxes\u001b[0m\u001b[1;33m.\u001b[0m\u001b[0mitems\u001b[0m\u001b[1;33m(\u001b[0m\u001b[1;33m)\u001b[0m\u001b[1;33m:\u001b[0m\u001b[1;33m\u001b[0m\u001b[0m\n\u001b[0;32m   3779\u001b[0m             \u001b[1;32mif\u001b[0m \u001b[0mlabels\u001b[0m \u001b[1;32mis\u001b[0m \u001b[1;32mnot\u001b[0m \u001b[1;32mNone\u001b[0m\u001b[1;33m:\u001b[0m\u001b[1;33m\u001b[0m\u001b[0m\n\u001b[1;32m-> 3780\u001b[1;33m                 \u001b[0mobj\u001b[0m \u001b[1;33m=\u001b[0m \u001b[0mobj\u001b[0m\u001b[1;33m.\u001b[0m\u001b[0m_drop_axis\u001b[0m\u001b[1;33m(\u001b[0m\u001b[0mlabels\u001b[0m\u001b[1;33m,\u001b[0m \u001b[0maxis\u001b[0m\u001b[1;33m,\u001b[0m \u001b[0mlevel\u001b[0m\u001b[1;33m=\u001b[0m\u001b[0mlevel\u001b[0m\u001b[1;33m,\u001b[0m \u001b[0merrors\u001b[0m\u001b[1;33m=\u001b[0m\u001b[0merrors\u001b[0m\u001b[1;33m)\u001b[0m\u001b[1;33m\u001b[0m\u001b[0m\n\u001b[0m\u001b[0;32m   3781\u001b[0m \u001b[1;33m\u001b[0m\u001b[0m\n\u001b[0;32m   3782\u001b[0m         \u001b[1;32mif\u001b[0m \u001b[0minplace\u001b[0m\u001b[1;33m:\u001b[0m\u001b[1;33m\u001b[0m\u001b[0m\n",
      "\u001b[1;32m~\\AppData\\Local\\Programs\\Python\\Python35\\lib\\site-packages\\pandas\\core\\generic.py\u001b[0m in \u001b[0;36m_drop_axis\u001b[1;34m(self, labels, axis, level, errors)\u001b[0m\n\u001b[0;32m   3810\u001b[0m                 \u001b[0mnew_axis\u001b[0m \u001b[1;33m=\u001b[0m \u001b[0maxis\u001b[0m\u001b[1;33m.\u001b[0m\u001b[0mdrop\u001b[0m\u001b[1;33m(\u001b[0m\u001b[0mlabels\u001b[0m\u001b[1;33m,\u001b[0m \u001b[0mlevel\u001b[0m\u001b[1;33m=\u001b[0m\u001b[0mlevel\u001b[0m\u001b[1;33m,\u001b[0m \u001b[0merrors\u001b[0m\u001b[1;33m=\u001b[0m\u001b[0merrors\u001b[0m\u001b[1;33m)\u001b[0m\u001b[1;33m\u001b[0m\u001b[0m\n\u001b[0;32m   3811\u001b[0m             \u001b[1;32melse\u001b[0m\u001b[1;33m:\u001b[0m\u001b[1;33m\u001b[0m\u001b[0m\n\u001b[1;32m-> 3812\u001b[1;33m                 \u001b[0mnew_axis\u001b[0m \u001b[1;33m=\u001b[0m \u001b[0maxis\u001b[0m\u001b[1;33m.\u001b[0m\u001b[0mdrop\u001b[0m\u001b[1;33m(\u001b[0m\u001b[0mlabels\u001b[0m\u001b[1;33m,\u001b[0m \u001b[0merrors\u001b[0m\u001b[1;33m=\u001b[0m\u001b[0merrors\u001b[0m\u001b[1;33m)\u001b[0m\u001b[1;33m\u001b[0m\u001b[0m\n\u001b[0m\u001b[0;32m   3813\u001b[0m             \u001b[0mresult\u001b[0m \u001b[1;33m=\u001b[0m \u001b[0mself\u001b[0m\u001b[1;33m.\u001b[0m\u001b[0mreindex\u001b[0m\u001b[1;33m(\u001b[0m\u001b[1;33m**\u001b[0m\u001b[1;33m{\u001b[0m\u001b[0maxis_name\u001b[0m\u001b[1;33m:\u001b[0m \u001b[0mnew_axis\u001b[0m\u001b[1;33m}\u001b[0m\u001b[1;33m)\u001b[0m\u001b[1;33m\u001b[0m\u001b[0m\n\u001b[0;32m   3814\u001b[0m \u001b[1;33m\u001b[0m\u001b[0m\n",
      "\u001b[1;32m~\\AppData\\Local\\Programs\\Python\\Python35\\lib\\site-packages\\pandas\\core\\indexes\\base.py\u001b[0m in \u001b[0;36mdrop\u001b[1;34m(self, labels, errors)\u001b[0m\n\u001b[0;32m   4963\u001b[0m             \u001b[1;32mif\u001b[0m \u001b[0merrors\u001b[0m \u001b[1;33m!=\u001b[0m \u001b[1;34m'ignore'\u001b[0m\u001b[1;33m:\u001b[0m\u001b[1;33m\u001b[0m\u001b[0m\n\u001b[0;32m   4964\u001b[0m                 raise KeyError(\n\u001b[1;32m-> 4965\u001b[1;33m                     '{} not found in axis'.format(labels[mask]))\n\u001b[0m\u001b[0;32m   4966\u001b[0m             \u001b[0mindexer\u001b[0m \u001b[1;33m=\u001b[0m \u001b[0mindexer\u001b[0m\u001b[1;33m[\u001b[0m\u001b[1;33m~\u001b[0m\u001b[0mmask\u001b[0m\u001b[1;33m]\u001b[0m\u001b[1;33m\u001b[0m\u001b[0m\n\u001b[0;32m   4967\u001b[0m         \u001b[1;32mreturn\u001b[0m \u001b[0mself\u001b[0m\u001b[1;33m.\u001b[0m\u001b[0mdelete\u001b[0m\u001b[1;33m(\u001b[0m\u001b[0mindexer\u001b[0m\u001b[1;33m)\u001b[0m\u001b[1;33m\u001b[0m\u001b[0m\n",
      "\u001b[1;31mKeyError\u001b[0m: \"['Year'] not found in axis\""
     ]
    }
   ],
   "source": [
    "all_together.drop(\"Year\", axis=1, inplace=True) # removes the COL ie axis = 1\n"
   ]
  },
  {
   "cell_type": "code",
   "execution_count": 91,
   "metadata": {},
   "outputs": [
    {
     "output_type": "execute_result",
     "data": {
      "text/html": "<div>\n<style scoped>\n    .dataframe tbody tr th:only-of-type {\n        vertical-align: middle;\n    }\n\n    .dataframe tbody tr th {\n        vertical-align: top;\n    }\n\n    .dataframe thead th {\n        text-align: right;\n    }\n</style>\n<table border=\"1\" class=\"dataframe\">\n  <thead>\n    <tr style=\"text-align: right;\">\n      <th></th>\n      <th>Rate</th>\n      <th>min_wage</th>\n      <th>pct</th>\n    </tr>\n  </thead>\n  <tbody>\n    <tr>\n      <th>Rate</th>\n      <td>1.000000</td>\n      <td>0.186689</td>\n      <td>-0.085985</td>\n    </tr>\n    <tr>\n      <th>min_wage</th>\n      <td>0.186689</td>\n      <td>1.000000</td>\n      <td>-0.325036</td>\n    </tr>\n    <tr>\n      <th>pct</th>\n      <td>-0.085985</td>\n      <td>-0.325036</td>\n      <td>1.000000</td>\n    </tr>\n  </tbody>\n</table>\n</div>",
      "text/plain": "              Rate  min_wage       pct\nRate      1.000000  0.186689 -0.085985\nmin_wage  0.186689  1.000000 -0.325036\npct      -0.085985 -0.325036  1.000000"
     },
     "metadata": {},
     "execution_count": 91
    }
   ],
   "source": [
    "all_together.corr()"
   ]
  },
  {
   "cell_type": "code",
   "execution_count": 92,
   "metadata": {},
   "outputs": [
    {
     "output_type": "execute_result",
     "data": {
      "text/html": "<div>\n<style scoped>\n    .dataframe tbody tr th:only-of-type {\n        vertical-align: middle;\n    }\n\n    .dataframe tbody tr th {\n        vertical-align: top;\n    }\n\n    .dataframe thead th {\n        text-align: right;\n    }\n</style>\n<table border=\"1\" class=\"dataframe\">\n  <thead>\n    <tr style=\"text-align: right;\">\n      <th></th>\n      <th>Rate</th>\n      <th>min_wage</th>\n      <th>pct</th>\n    </tr>\n  </thead>\n  <tbody>\n    <tr>\n      <th>Rate</th>\n      <td>5.743199</td>\n      <td>0.683870</td>\n      <td>-0.031771</td>\n    </tr>\n    <tr>\n      <th>min_wage</th>\n      <td>0.683870</td>\n      <td>2.336451</td>\n      <td>-0.076602</td>\n    </tr>\n    <tr>\n      <th>pct</th>\n      <td>-0.031771</td>\n      <td>-0.076602</td>\n      <td>0.023772</td>\n    </tr>\n  </tbody>\n</table>\n</div>",
      "text/plain": "              Rate  min_wage       pct\nRate      5.743199  0.683870 -0.031771\nmin_wage  0.683870  2.336451 -0.076602\npct      -0.031771 -0.076602  0.023772"
     },
     "metadata": {},
     "execution_count": 92
    }
   ],
   "source": [
    "all_together.cov()"
   ]
  },
  {
   "cell_type": "markdown",
   "metadata": {},
   "source": [
    "### from what you can see, there seems to be a negative correl bw min wage and pct vote for trump. Which would make sense; min wage are more liberal.\n",
    "\n",
    "### unemployment rate also does not seem to correl to pct vote\n",
    "\n",
    "### in any case, most of these findings are not surprising nor significant. This is just a walkthrough of pandas data science!"
   ]
  },
  {
   "cell_type": "code",
   "execution_count": null,
   "metadata": {},
   "outputs": [],
   "source": []
  }
 ],
 "metadata": {
  "language_info": {
   "codemirror_mode": {
    "name": "ipython",
    "version": 3
   },
   "file_extension": ".py",
   "mimetype": "text/x-python",
   "name": "python",
   "nbconvert_exporter": "python",
   "pygments_lexer": "ipython3",
   "version": "3.5.4-final"
  },
  "orig_nbformat": 2,
  "kernelspec": {
   "name": "python35464bit846037f6322143c096c385b3f70ce6e5",
   "display_name": "Python 3.5.4 64-bit"
  }
 },
 "nbformat": 4,
 "nbformat_minor": 2
}