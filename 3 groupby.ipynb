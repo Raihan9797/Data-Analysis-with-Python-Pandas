{
 "cells": [
  {
   "cell_type": "code",
   "execution_count": 14,
   "metadata": {},
   "outputs": [],
   "source": [
    "import pandas as pd \n",
    "\n",
    "df = pd.read_csv(r\"D:\\d Documents\\datasets for practice\\Minimum Wage Data.csv\", encoding = \"latin\")\n",
    "# you can also use \"ISO-8859-1\"\n"
   ]
  },
  {
   "cell_type": "markdown",
   "metadata": {},
   "source": [
    "### python defaults to using utf8 to decode the files\n",
    "\n",
    "### the issue might lie with how the dataset was created, but sentdex points out that when we data that has been scraped is usually utf8 encoding\n",
    "\n",
    "### lets convert this dataset so we don't have to see this problem again."
   ]
  },
  {
   "cell_type": "code",
   "execution_count": 20,
   "metadata": {},
   "outputs": [
    {
     "output_type": "execute_result",
     "data": {
      "text/plain": "   Year       State           Table_Data Footnote  High.Value  Low.Value  \\\n0  1968     Alabama                  ...      NaN     0.00000    0.00000   \n1  1968      Alaska                 2.10      NaN     2.10000    2.10000   \n2  1968     Arizona  18.72 - 26.40/wk(b)      (b)     0.66000    0.46800   \n3  1968    Arkansas          1.25/day(b)      (b)     0.15625    0.15625   \n4  1968  California              1.65(b)      (b)     1.65000    1.65000   \n\n   CPI.Average  High.2018  Low.2018  \n0    34.783333       0.00      0.00  \n1    34.783333      15.12     15.12  \n2    34.783333       4.75      3.37  \n3    34.783333       1.12      1.12  \n4    34.783333      11.88     11.88  ",
      "text/html": "<div>\n<style scoped>\n    .dataframe tbody tr th:only-of-type {\n        vertical-align: middle;\n    }\n\n    .dataframe tbody tr th {\n        vertical-align: top;\n    }\n\n    .dataframe thead th {\n        text-align: right;\n    }\n</style>\n<table border=\"1\" class=\"dataframe\">\n  <thead>\n    <tr style=\"text-align: right;\">\n      <th></th>\n      <th>Year</th>\n      <th>State</th>\n      <th>Table_Data</th>\n      <th>Footnote</th>\n      <th>High.Value</th>\n      <th>Low.Value</th>\n      <th>CPI.Average</th>\n      <th>High.2018</th>\n      <th>Low.2018</th>\n    </tr>\n  </thead>\n  <tbody>\n    <tr>\n      <th>0</th>\n      <td>1968</td>\n      <td>Alabama</td>\n      <td>...</td>\n      <td>NaN</td>\n      <td>0.00000</td>\n      <td>0.00000</td>\n      <td>34.783333</td>\n      <td>0.00</td>\n      <td>0.00</td>\n    </tr>\n    <tr>\n      <th>1</th>\n      <td>1968</td>\n      <td>Alaska</td>\n      <td>2.10</td>\n      <td>NaN</td>\n      <td>2.10000</td>\n      <td>2.10000</td>\n      <td>34.783333</td>\n      <td>15.12</td>\n      <td>15.12</td>\n    </tr>\n    <tr>\n      <th>2</th>\n      <td>1968</td>\n      <td>Arizona</td>\n      <td>18.72 - 26.40/wk(b)</td>\n      <td>(b)</td>\n      <td>0.66000</td>\n      <td>0.46800</td>\n      <td>34.783333</td>\n      <td>4.75</td>\n      <td>3.37</td>\n    </tr>\n    <tr>\n      <th>3</th>\n      <td>1968</td>\n      <td>Arkansas</td>\n      <td>1.25/day(b)</td>\n      <td>(b)</td>\n      <td>0.15625</td>\n      <td>0.15625</td>\n      <td>34.783333</td>\n      <td>1.12</td>\n      <td>1.12</td>\n    </tr>\n    <tr>\n      <th>4</th>\n      <td>1968</td>\n      <td>California</td>\n      <td>1.65(b)</td>\n      <td>(b)</td>\n      <td>1.65000</td>\n      <td>1.65000</td>\n      <td>34.783333</td>\n      <td>11.88</td>\n      <td>11.88</td>\n    </tr>\n  </tbody>\n</table>\n</div>"
     },
     "metadata": {},
     "execution_count": 20
    }
   ],
   "source": [
    "df.to_csv(\"D:\\d Documents\\datasets for practice\\minwage.csv\", encoding= \"utf-8\")\n",
    "\n",
    "df.head()"
   ]
  },
  {
   "cell_type": "code",
   "execution_count": 21,
   "metadata": {},
   "outputs": [
    {
     "output_type": "execute_result",
     "data": {
      "text/plain": "        State Table_Data Footnote  High.Value  Low.Value  CPI.Average  \\\nYear                                                                    \n1968  Alabama        ...      NaN         0.0        0.0    34.783333   \n1969  Alabama        ...      NaN         0.0        0.0    36.683333   \n1970  Alabama        ...      NaN         0.0        0.0    38.825000   \n1971  Alabama        ...      NaN         0.0        0.0    40.491667   \n1972  Alabama        ...      NaN         0.0        0.0    41.816667   \n\n      High.2018  Low.2018  \nYear                       \n1968        0.0       0.0  \n1969        0.0       0.0  \n1970        0.0       0.0  \n1971        0.0       0.0  \n1972        0.0       0.0  ",
      "text/html": "<div>\n<style scoped>\n    .dataframe tbody tr th:only-of-type {\n        vertical-align: middle;\n    }\n\n    .dataframe tbody tr th {\n        vertical-align: top;\n    }\n\n    .dataframe thead th {\n        text-align: right;\n    }\n</style>\n<table border=\"1\" class=\"dataframe\">\n  <thead>\n    <tr style=\"text-align: right;\">\n      <th></th>\n      <th>State</th>\n      <th>Table_Data</th>\n      <th>Footnote</th>\n      <th>High.Value</th>\n      <th>Low.Value</th>\n      <th>CPI.Average</th>\n      <th>High.2018</th>\n      <th>Low.2018</th>\n    </tr>\n    <tr>\n      <th>Year</th>\n      <th></th>\n      <th></th>\n      <th></th>\n      <th></th>\n      <th></th>\n      <th></th>\n      <th></th>\n      <th></th>\n    </tr>\n  </thead>\n  <tbody>\n    <tr>\n      <th>1968</th>\n      <td>Alabama</td>\n      <td>...</td>\n      <td>NaN</td>\n      <td>0.0</td>\n      <td>0.0</td>\n      <td>34.783333</td>\n      <td>0.0</td>\n      <td>0.0</td>\n    </tr>\n    <tr>\n      <th>1969</th>\n      <td>Alabama</td>\n      <td>...</td>\n      <td>NaN</td>\n      <td>0.0</td>\n      <td>0.0</td>\n      <td>36.683333</td>\n      <td>0.0</td>\n      <td>0.0</td>\n    </tr>\n    <tr>\n      <th>1970</th>\n      <td>Alabama</td>\n      <td>...</td>\n      <td>NaN</td>\n      <td>0.0</td>\n      <td>0.0</td>\n      <td>38.825000</td>\n      <td>0.0</td>\n      <td>0.0</td>\n    </tr>\n    <tr>\n      <th>1971</th>\n      <td>Alabama</td>\n      <td>...</td>\n      <td>NaN</td>\n      <td>0.0</td>\n      <td>0.0</td>\n      <td>40.491667</td>\n      <td>0.0</td>\n      <td>0.0</td>\n    </tr>\n    <tr>\n      <th>1972</th>\n      <td>Alabama</td>\n      <td>...</td>\n      <td>NaN</td>\n      <td>0.0</td>\n      <td>0.0</td>\n      <td>41.816667</td>\n      <td>0.0</td>\n      <td>0.0</td>\n    </tr>\n  </tbody>\n</table>\n</div>"
     },
     "metadata": {},
     "execution_count": 21
    }
   ],
   "source": [
    "gb = df.groupby(\"State\")\n",
    "\n",
    "gb.get_group(\"Alabama\").set_index(\"Year\").head() # get all of alabama and set the year as a group."
   ]
  },
  {
   "cell_type": "code",
   "execution_count": 24,
   "metadata": {},
   "outputs": [
    {
     "output_type": "execute_result",
     "data": {
      "text/plain": "      Alabama  Alaska  Arizona  Arkansas  California  Colorado  Connecticut  \\\nYear                                                                          \n1968      0.0   15.12     3.37      1.12       11.88      7.20        10.08   \n1969      0.0   14.33     3.19      1.07       11.26      6.83         9.56   \n1970      0.0   13.54     3.02      7.09       10.64      6.45        10.32   \n1971      0.0   12.99     2.89      6.80       10.20      6.18         9.89   \n1972      0.0   12.57     2.80      7.19        9.88      5.99        11.08   \n\n      Delaware  District of Columbia  Federal (FLSA)  ...  Tennessee  Texas  \\\nYear                                                  ...                     \n1968      9.00                  9.00            8.28  ...        0.0   0.00   \n1969      8.53                  8.53            7.85  ...        0.0   0.00   \n1970      8.06                 10.32            8.38  ...        0.0   0.00   \n1971      7.73                  9.89            8.04  ...        0.0   0.00   \n1972      9.58                  9.58            9.58  ...        0.0   8.38   \n\n      U.S. Virgin Islands  Utah  Vermont  Virginia  Washington  West Virginia  \\\nYear                                                                            \n1968                  NaN  7.20    10.08       0.0       11.52           7.20   \n1969                  NaN  6.83     9.56       0.0       10.92           6.83   \n1970                  NaN  6.45    10.32       0.0       10.32           6.45   \n1971                  NaN  6.18     9.89       0.0        9.89           6.18   \n1972                  NaN  7.19     9.58       0.0        9.58           7.19   \n\n      Wisconsin  Wyoming  \nYear                      \n1968       9.00     8.64  \n1969       8.53     8.19  \n1970       8.38     8.38  \n1971       8.04     8.04  \n1972       8.68     8.98  \n\n[5 rows x 55 columns]",
      "text/html": "<div>\n<style scoped>\n    .dataframe tbody tr th:only-of-type {\n        vertical-align: middle;\n    }\n\n    .dataframe tbody tr th {\n        vertical-align: top;\n    }\n\n    .dataframe thead th {\n        text-align: right;\n    }\n</style>\n<table border=\"1\" class=\"dataframe\">\n  <thead>\n    <tr style=\"text-align: right;\">\n      <th></th>\n      <th>Alabama</th>\n      <th>Alaska</th>\n      <th>Arizona</th>\n      <th>Arkansas</th>\n      <th>California</th>\n      <th>Colorado</th>\n      <th>Connecticut</th>\n      <th>Delaware</th>\n      <th>District of Columbia</th>\n      <th>Federal (FLSA)</th>\n      <th>...</th>\n      <th>Tennessee</th>\n      <th>Texas</th>\n      <th>U.S. Virgin Islands</th>\n      <th>Utah</th>\n      <th>Vermont</th>\n      <th>Virginia</th>\n      <th>Washington</th>\n      <th>West Virginia</th>\n      <th>Wisconsin</th>\n      <th>Wyoming</th>\n    </tr>\n    <tr>\n      <th>Year</th>\n      <th></th>\n      <th></th>\n      <th></th>\n      <th></th>\n      <th></th>\n      <th></th>\n      <th></th>\n      <th></th>\n      <th></th>\n      <th></th>\n      <th></th>\n      <th></th>\n      <th></th>\n      <th></th>\n      <th></th>\n      <th></th>\n      <th></th>\n      <th></th>\n      <th></th>\n      <th></th>\n      <th></th>\n    </tr>\n  </thead>\n  <tbody>\n    <tr>\n      <th>1968</th>\n      <td>0.0</td>\n      <td>15.12</td>\n      <td>3.37</td>\n      <td>1.12</td>\n      <td>11.88</td>\n      <td>7.20</td>\n      <td>10.08</td>\n      <td>9.00</td>\n      <td>9.00</td>\n      <td>8.28</td>\n      <td>...</td>\n      <td>0.0</td>\n      <td>0.00</td>\n      <td>NaN</td>\n      <td>7.20</td>\n      <td>10.08</td>\n      <td>0.0</td>\n      <td>11.52</td>\n      <td>7.20</td>\n      <td>9.00</td>\n      <td>8.64</td>\n    </tr>\n    <tr>\n      <th>1969</th>\n      <td>0.0</td>\n      <td>14.33</td>\n      <td>3.19</td>\n      <td>1.07</td>\n      <td>11.26</td>\n      <td>6.83</td>\n      <td>9.56</td>\n      <td>8.53</td>\n      <td>8.53</td>\n      <td>7.85</td>\n      <td>...</td>\n      <td>0.0</td>\n      <td>0.00</td>\n      <td>NaN</td>\n      <td>6.83</td>\n      <td>9.56</td>\n      <td>0.0</td>\n      <td>10.92</td>\n      <td>6.83</td>\n      <td>8.53</td>\n      <td>8.19</td>\n    </tr>\n    <tr>\n      <th>1970</th>\n      <td>0.0</td>\n      <td>13.54</td>\n      <td>3.02</td>\n      <td>7.09</td>\n      <td>10.64</td>\n      <td>6.45</td>\n      <td>10.32</td>\n      <td>8.06</td>\n      <td>10.32</td>\n      <td>8.38</td>\n      <td>...</td>\n      <td>0.0</td>\n      <td>0.00</td>\n      <td>NaN</td>\n      <td>6.45</td>\n      <td>10.32</td>\n      <td>0.0</td>\n      <td>10.32</td>\n      <td>6.45</td>\n      <td>8.38</td>\n      <td>8.38</td>\n    </tr>\n    <tr>\n      <th>1971</th>\n      <td>0.0</td>\n      <td>12.99</td>\n      <td>2.89</td>\n      <td>6.80</td>\n      <td>10.20</td>\n      <td>6.18</td>\n      <td>9.89</td>\n      <td>7.73</td>\n      <td>9.89</td>\n      <td>8.04</td>\n      <td>...</td>\n      <td>0.0</td>\n      <td>0.00</td>\n      <td>NaN</td>\n      <td>6.18</td>\n      <td>9.89</td>\n      <td>0.0</td>\n      <td>9.89</td>\n      <td>6.18</td>\n      <td>8.04</td>\n      <td>8.04</td>\n    </tr>\n    <tr>\n      <th>1972</th>\n      <td>0.0</td>\n      <td>12.57</td>\n      <td>2.80</td>\n      <td>7.19</td>\n      <td>9.88</td>\n      <td>5.99</td>\n      <td>11.08</td>\n      <td>9.58</td>\n      <td>9.58</td>\n      <td>9.58</td>\n      <td>...</td>\n      <td>0.0</td>\n      <td>8.38</td>\n      <td>NaN</td>\n      <td>7.19</td>\n      <td>9.58</td>\n      <td>0.0</td>\n      <td>9.58</td>\n      <td>7.19</td>\n      <td>8.68</td>\n      <td>8.98</td>\n    </tr>\n  </tbody>\n</table>\n<p>5 rows × 55 columns</p>\n</div>"
     },
     "metadata": {},
     "execution_count": 24
    }
   ],
   "source": [
    "act_min_wage = pd.DataFrame()\n",
    "\n",
    "# we can iterate over all the groups too\n",
    "for name, group in df.groupby(\"State\"):\n",
    "    if act_min_wage.empty:\n",
    "        act_min_wage = group.set_index(\"Year\")[[\"Low.2018\"]].rename(columns = {\"Low.2018\" : name})\n",
    "    \n",
    "    else:\n",
    "        act_min_wage = act_min_wage.join(group.set_index(\"Year\")[[\"Low.2018\"]].rename(columns = {\"Low.2018\" : name}))\n",
    "\n",
    "act_min_wage.head()"
   ]
  },
  {
   "cell_type": "code",
   "execution_count": 25,
   "metadata": {},
   "outputs": [
    {
     "output_type": "execute_result",
     "data": {
      "text/plain": "       Alabama     Alaska    Arizona   Arkansas  California   Colorado  \\\ncount     50.0  50.000000  50.000000  50.000000   50.000000  50.000000   \nmean       0.0   9.583800   2.316200   6.781600    8.632800   6.389800   \nstd        0.0   1.845176   3.474504   1.341223    1.187508   1.521052   \nmin        0.0   7.380000   0.000000   1.070000    6.420000   3.840000   \n25%        0.0   8.252500   0.000000   6.522500    7.695000   5.072500   \n50%        0.0   8.890000   0.000000   6.920000    8.670000   6.375000   \n75%        0.0  10.492500   3.147500   7.290000    9.307500   7.677500   \nmax        0.0  15.120000  10.220000   8.680000   11.880000   9.500000   \n\n       Connecticut   Delaware  District of Columbia  Federal (FLSA)  ...  \\\ncount    50.000000  50.000000             50.000000       50.000000  ...   \nmean      8.823600   7.498800              8.343200        7.773200  ...   \nstd       1.023613   1.265436              1.476133        0.887354  ...   \nmin       6.820000   4.410000              5.510000        6.220000  ...   \n25%       7.865000   7.015000              7.097500        7.172500  ...   \n50%       9.075000   7.845000              8.510000        7.655000  ...   \n75%       9.455000   8.327500              9.140000        8.242500  ...   \nmax      11.080000   9.580000             12.000000       10.010000  ...   \n\n       Tennessee      Texas  U.S. Virgin Islands       Utah    Vermont  \\\ncount       50.0  50.000000            39.000000  50.000000  50.000000   \nmean         0.0   5.541200             6.643590   6.836600   8.657400   \nstd          0.0   2.202229             1.590176   0.819367   0.984647   \nmin          0.0   0.000000             4.390000   4.790000   6.800000   \n25%          0.0   4.762500             5.105000   6.317500   7.800000   \n50%          0.0   6.070000             6.770000   6.930000   8.885000   \n75%          0.0   7.105000             7.830000   7.470000   9.372500   \nmax          0.0   8.380000            10.010000   8.330000  10.320000   \n\n        Virginia  Washington  West Virginia  Wisconsin    Wyoming  \ncount  50.000000   50.000000      50.000000  50.000000  50.000000  \nmean    5.897400    8.301800       7.166400   7.694200   5.149200  \nstd     2.726151    1.868613       0.793673   0.762675   1.998928  \nmin     0.000000    4.410000       5.580000   6.420000   2.260000  \n25%     5.892500    7.227500       6.630000   7.107500   3.270000  \n50%     6.855000    9.055000       7.075000   7.580000   5.445000  \n75%     7.620000    9.672500       7.612500   8.145000   6.607500  \nmax     8.800000   11.520000       9.130000   9.660000   8.980000  \n\n[8 rows x 55 columns]",
      "text/html": "<div>\n<style scoped>\n    .dataframe tbody tr th:only-of-type {\n        vertical-align: middle;\n    }\n\n    .dataframe tbody tr th {\n        vertical-align: top;\n    }\n\n    .dataframe thead th {\n        text-align: right;\n    }\n</style>\n<table border=\"1\" class=\"dataframe\">\n  <thead>\n    <tr style=\"text-align: right;\">\n      <th></th>\n      <th>Alabama</th>\n      <th>Alaska</th>\n      <th>Arizona</th>\n      <th>Arkansas</th>\n      <th>California</th>\n      <th>Colorado</th>\n      <th>Connecticut</th>\n      <th>Delaware</th>\n      <th>District of Columbia</th>\n      <th>Federal (FLSA)</th>\n      <th>...</th>\n      <th>Tennessee</th>\n      <th>Texas</th>\n      <th>U.S. Virgin Islands</th>\n      <th>Utah</th>\n      <th>Vermont</th>\n      <th>Virginia</th>\n      <th>Washington</th>\n      <th>West Virginia</th>\n      <th>Wisconsin</th>\n      <th>Wyoming</th>\n    </tr>\n  </thead>\n  <tbody>\n    <tr>\n      <th>count</th>\n      <td>50.0</td>\n      <td>50.000000</td>\n      <td>50.000000</td>\n      <td>50.000000</td>\n      <td>50.000000</td>\n      <td>50.000000</td>\n      <td>50.000000</td>\n      <td>50.000000</td>\n      <td>50.000000</td>\n      <td>50.000000</td>\n      <td>...</td>\n      <td>50.0</td>\n      <td>50.000000</td>\n      <td>39.000000</td>\n      <td>50.000000</td>\n      <td>50.000000</td>\n      <td>50.000000</td>\n      <td>50.000000</td>\n      <td>50.000000</td>\n      <td>50.000000</td>\n      <td>50.000000</td>\n    </tr>\n    <tr>\n      <th>mean</th>\n      <td>0.0</td>\n      <td>9.583800</td>\n      <td>2.316200</td>\n      <td>6.781600</td>\n      <td>8.632800</td>\n      <td>6.389800</td>\n      <td>8.823600</td>\n      <td>7.498800</td>\n      <td>8.343200</td>\n      <td>7.773200</td>\n      <td>...</td>\n      <td>0.0</td>\n      <td>5.541200</td>\n      <td>6.643590</td>\n      <td>6.836600</td>\n      <td>8.657400</td>\n      <td>5.897400</td>\n      <td>8.301800</td>\n      <td>7.166400</td>\n      <td>7.694200</td>\n      <td>5.149200</td>\n    </tr>\n    <tr>\n      <th>std</th>\n      <td>0.0</td>\n      <td>1.845176</td>\n      <td>3.474504</td>\n      <td>1.341223</td>\n      <td>1.187508</td>\n      <td>1.521052</td>\n      <td>1.023613</td>\n      <td>1.265436</td>\n      <td>1.476133</td>\n      <td>0.887354</td>\n      <td>...</td>\n      <td>0.0</td>\n      <td>2.202229</td>\n      <td>1.590176</td>\n      <td>0.819367</td>\n      <td>0.984647</td>\n      <td>2.726151</td>\n      <td>1.868613</td>\n      <td>0.793673</td>\n      <td>0.762675</td>\n      <td>1.998928</td>\n    </tr>\n    <tr>\n      <th>min</th>\n      <td>0.0</td>\n      <td>7.380000</td>\n      <td>0.000000</td>\n      <td>1.070000</td>\n      <td>6.420000</td>\n      <td>3.840000</td>\n      <td>6.820000</td>\n      <td>4.410000</td>\n      <td>5.510000</td>\n      <td>6.220000</td>\n      <td>...</td>\n      <td>0.0</td>\n      <td>0.000000</td>\n      <td>4.390000</td>\n      <td>4.790000</td>\n      <td>6.800000</td>\n      <td>0.000000</td>\n      <td>4.410000</td>\n      <td>5.580000</td>\n      <td>6.420000</td>\n      <td>2.260000</td>\n    </tr>\n    <tr>\n      <th>25%</th>\n      <td>0.0</td>\n      <td>8.252500</td>\n      <td>0.000000</td>\n      <td>6.522500</td>\n      <td>7.695000</td>\n      <td>5.072500</td>\n      <td>7.865000</td>\n      <td>7.015000</td>\n      <td>7.097500</td>\n      <td>7.172500</td>\n      <td>...</td>\n      <td>0.0</td>\n      <td>4.762500</td>\n      <td>5.105000</td>\n      <td>6.317500</td>\n      <td>7.800000</td>\n      <td>5.892500</td>\n      <td>7.227500</td>\n      <td>6.630000</td>\n      <td>7.107500</td>\n      <td>3.270000</td>\n    </tr>\n    <tr>\n      <th>50%</th>\n      <td>0.0</td>\n      <td>8.890000</td>\n      <td>0.000000</td>\n      <td>6.920000</td>\n      <td>8.670000</td>\n      <td>6.375000</td>\n      <td>9.075000</td>\n      <td>7.845000</td>\n      <td>8.510000</td>\n      <td>7.655000</td>\n      <td>...</td>\n      <td>0.0</td>\n      <td>6.070000</td>\n      <td>6.770000</td>\n      <td>6.930000</td>\n      <td>8.885000</td>\n      <td>6.855000</td>\n      <td>9.055000</td>\n      <td>7.075000</td>\n      <td>7.580000</td>\n      <td>5.445000</td>\n    </tr>\n    <tr>\n      <th>75%</th>\n      <td>0.0</td>\n      <td>10.492500</td>\n      <td>3.147500</td>\n      <td>7.290000</td>\n      <td>9.307500</td>\n      <td>7.677500</td>\n      <td>9.455000</td>\n      <td>8.327500</td>\n      <td>9.140000</td>\n      <td>8.242500</td>\n      <td>...</td>\n      <td>0.0</td>\n      <td>7.105000</td>\n      <td>7.830000</td>\n      <td>7.470000</td>\n      <td>9.372500</td>\n      <td>7.620000</td>\n      <td>9.672500</td>\n      <td>7.612500</td>\n      <td>8.145000</td>\n      <td>6.607500</td>\n    </tr>\n    <tr>\n      <th>max</th>\n      <td>0.0</td>\n      <td>15.120000</td>\n      <td>10.220000</td>\n      <td>8.680000</td>\n      <td>11.880000</td>\n      <td>9.500000</td>\n      <td>11.080000</td>\n      <td>9.580000</td>\n      <td>12.000000</td>\n      <td>10.010000</td>\n      <td>...</td>\n      <td>0.0</td>\n      <td>8.380000</td>\n      <td>10.010000</td>\n      <td>8.330000</td>\n      <td>10.320000</td>\n      <td>8.800000</td>\n      <td>11.520000</td>\n      <td>9.130000</td>\n      <td>9.660000</td>\n      <td>8.980000</td>\n    </tr>\n  </tbody>\n</table>\n<p>8 rows × 55 columns</p>\n</div>"
     },
     "metadata": {},
     "execution_count": 25
    }
   ],
   "source": [
    "act_min_wage.describe()"
   ]
  },
  {
   "cell_type": "code",
   "execution_count": 33,
   "metadata": {},
   "outputs": [
    {
     "output_type": "execute_result",
     "data": {
      "text/plain": "            Alabama    Alaska   Arizona  Arkansas  California  Colorado  \\\nAlabama         NaN       NaN       NaN       NaN         NaN       NaN   \nAlaska          NaN  1.000000  0.034299  0.489560    0.619368  0.022579   \nArizona         NaN  0.034299  1.000000  0.402066    0.601832  0.775375   \nArkansas        NaN  0.489560  0.402066  1.000000    0.634409  0.607442   \nCalifornia      NaN  0.619368  0.601832  0.634409    1.000000  0.637623   \n\n            Connecticut  Delaware  District of Columbia  Federal (FLSA)  ...  \\\nAlabama             NaN       NaN                   NaN             NaN  ...   \nAlaska         0.631521 -0.205439              0.137961        0.706251  ...   \nArizona        0.550665  0.495109              0.660212       -0.003392  ...   \nArkansas       0.614433  0.468729              0.712453        0.325165  ...   \nCalifornia     0.953701  0.417050              0.631731        0.359091  ...   \n\n            Tennessee     Texas  U.S. Virgin Islands      Utah   Vermont  \\\nAlabama           NaN       NaN                  NaN       NaN       NaN   \nAlaska            NaN -0.232992             0.277016  0.164755  0.638072   \nArizona           NaN  0.673255            -0.758607  0.452724  0.638315   \nArkansas          NaN  0.221539            -0.204485  0.505125  0.648199   \nCalifornia        NaN  0.346920            -0.417782  0.522567  0.939054   \n\n            Virginia  Washington  West Virginia  Wisconsin   Wyoming  \nAlabama          NaN         NaN            NaN        NaN       NaN  \nAlaska      0.331776    0.079230       0.264779   0.715256  0.386297  \nArizona     0.466566    0.657016       0.795529   0.200104  0.507443  \nArkansas    0.621423    0.480696       0.745047   0.476609  0.195630  \nCalifornia  0.597519    0.715365       0.709669   0.518153  0.724602  \n\n[5 rows x 55 columns]",
      "text/html": "<div>\n<style scoped>\n    .dataframe tbody tr th:only-of-type {\n        vertical-align: middle;\n    }\n\n    .dataframe tbody tr th {\n        vertical-align: top;\n    }\n\n    .dataframe thead th {\n        text-align: right;\n    }\n</style>\n<table border=\"1\" class=\"dataframe\">\n  <thead>\n    <tr style=\"text-align: right;\">\n      <th></th>\n      <th>Alabama</th>\n      <th>Alaska</th>\n      <th>Arizona</th>\n      <th>Arkansas</th>\n      <th>California</th>\n      <th>Colorado</th>\n      <th>Connecticut</th>\n      <th>Delaware</th>\n      <th>District of Columbia</th>\n      <th>Federal (FLSA)</th>\n      <th>...</th>\n      <th>Tennessee</th>\n      <th>Texas</th>\n      <th>U.S. Virgin Islands</th>\n      <th>Utah</th>\n      <th>Vermont</th>\n      <th>Virginia</th>\n      <th>Washington</th>\n      <th>West Virginia</th>\n      <th>Wisconsin</th>\n      <th>Wyoming</th>\n    </tr>\n  </thead>\n  <tbody>\n    <tr>\n      <th>Alabama</th>\n      <td>NaN</td>\n      <td>NaN</td>\n      <td>NaN</td>\n      <td>NaN</td>\n      <td>NaN</td>\n      <td>NaN</td>\n      <td>NaN</td>\n      <td>NaN</td>\n      <td>NaN</td>\n      <td>NaN</td>\n      <td>...</td>\n      <td>NaN</td>\n      <td>NaN</td>\n      <td>NaN</td>\n      <td>NaN</td>\n      <td>NaN</td>\n      <td>NaN</td>\n      <td>NaN</td>\n      <td>NaN</td>\n      <td>NaN</td>\n      <td>NaN</td>\n    </tr>\n    <tr>\n      <th>Alaska</th>\n      <td>NaN</td>\n      <td>1.000000</td>\n      <td>0.034299</td>\n      <td>0.489560</td>\n      <td>0.619368</td>\n      <td>0.022579</td>\n      <td>0.631521</td>\n      <td>-0.205439</td>\n      <td>0.137961</td>\n      <td>0.706251</td>\n      <td>...</td>\n      <td>NaN</td>\n      <td>-0.232992</td>\n      <td>0.277016</td>\n      <td>0.164755</td>\n      <td>0.638072</td>\n      <td>0.331776</td>\n      <td>0.079230</td>\n      <td>0.264779</td>\n      <td>0.715256</td>\n      <td>0.386297</td>\n    </tr>\n    <tr>\n      <th>Arizona</th>\n      <td>NaN</td>\n      <td>0.034299</td>\n      <td>1.000000</td>\n      <td>0.402066</td>\n      <td>0.601832</td>\n      <td>0.775375</td>\n      <td>0.550665</td>\n      <td>0.495109</td>\n      <td>0.660212</td>\n      <td>-0.003392</td>\n      <td>...</td>\n      <td>NaN</td>\n      <td>0.673255</td>\n      <td>-0.758607</td>\n      <td>0.452724</td>\n      <td>0.638315</td>\n      <td>0.466566</td>\n      <td>0.657016</td>\n      <td>0.795529</td>\n      <td>0.200104</td>\n      <td>0.507443</td>\n    </tr>\n    <tr>\n      <th>Arkansas</th>\n      <td>NaN</td>\n      <td>0.489560</td>\n      <td>0.402066</td>\n      <td>1.000000</td>\n      <td>0.634409</td>\n      <td>0.607442</td>\n      <td>0.614433</td>\n      <td>0.468729</td>\n      <td>0.712453</td>\n      <td>0.325165</td>\n      <td>...</td>\n      <td>NaN</td>\n      <td>0.221539</td>\n      <td>-0.204485</td>\n      <td>0.505125</td>\n      <td>0.648199</td>\n      <td>0.621423</td>\n      <td>0.480696</td>\n      <td>0.745047</td>\n      <td>0.476609</td>\n      <td>0.195630</td>\n    </tr>\n    <tr>\n      <th>California</th>\n      <td>NaN</td>\n      <td>0.619368</td>\n      <td>0.601832</td>\n      <td>0.634409</td>\n      <td>1.000000</td>\n      <td>0.637623</td>\n      <td>0.953701</td>\n      <td>0.417050</td>\n      <td>0.631731</td>\n      <td>0.359091</td>\n      <td>...</td>\n      <td>NaN</td>\n      <td>0.346920</td>\n      <td>-0.417782</td>\n      <td>0.522567</td>\n      <td>0.939054</td>\n      <td>0.597519</td>\n      <td>0.715365</td>\n      <td>0.709669</td>\n      <td>0.518153</td>\n      <td>0.724602</td>\n    </tr>\n  </tbody>\n</table>\n<p>5 rows × 55 columns</p>\n</div>"
     },
     "metadata": {},
     "execution_count": 33
    }
   ],
   "source": [
    "# act_min_wage.corr().head()\n",
    "\n",
    "act_min_wage.dropna().corr().head()"
   ]
  },
  {
   "cell_type": "markdown",
   "metadata": {},
   "source": [
    "### seems that there are alot of NaNs. even with df.dropna(), doesnt seem to solve the issue too"
   ]
  },
  {
   "cell_type": "code",
   "execution_count": 34,
   "metadata": {},
   "outputs": [
    {
     "output_type": "execute_result",
     "data": {
      "text/plain": "   Year       State           Table_Data Footnote  High.Value  Low.Value  \\\n0  1968     Alabama                  ...      NaN     0.00000    0.00000   \n1  1968      Alaska                 2.10      NaN     2.10000    2.10000   \n2  1968     Arizona  18.72 - 26.40/wk(b)      (b)     0.66000    0.46800   \n3  1968    Arkansas          1.25/day(b)      (b)     0.15625    0.15625   \n4  1968  California              1.65(b)      (b)     1.65000    1.65000   \n\n   CPI.Average  High.2018  Low.2018  \n0    34.783333       0.00      0.00  \n1    34.783333      15.12     15.12  \n2    34.783333       4.75      3.37  \n3    34.783333       1.12      1.12  \n4    34.783333      11.88     11.88  ",
      "text/html": "<div>\n<style scoped>\n    .dataframe tbody tr th:only-of-type {\n        vertical-align: middle;\n    }\n\n    .dataframe tbody tr th {\n        vertical-align: top;\n    }\n\n    .dataframe thead th {\n        text-align: right;\n    }\n</style>\n<table border=\"1\" class=\"dataframe\">\n  <thead>\n    <tr style=\"text-align: right;\">\n      <th></th>\n      <th>Year</th>\n      <th>State</th>\n      <th>Table_Data</th>\n      <th>Footnote</th>\n      <th>High.Value</th>\n      <th>Low.Value</th>\n      <th>CPI.Average</th>\n      <th>High.2018</th>\n      <th>Low.2018</th>\n    </tr>\n  </thead>\n  <tbody>\n    <tr>\n      <th>0</th>\n      <td>1968</td>\n      <td>Alabama</td>\n      <td>...</td>\n      <td>NaN</td>\n      <td>0.00000</td>\n      <td>0.00000</td>\n      <td>34.783333</td>\n      <td>0.00</td>\n      <td>0.00</td>\n    </tr>\n    <tr>\n      <th>1</th>\n      <td>1968</td>\n      <td>Alaska</td>\n      <td>2.10</td>\n      <td>NaN</td>\n      <td>2.10000</td>\n      <td>2.10000</td>\n      <td>34.783333</td>\n      <td>15.12</td>\n      <td>15.12</td>\n    </tr>\n    <tr>\n      <th>2</th>\n      <td>1968</td>\n      <td>Arizona</td>\n      <td>18.72 - 26.40/wk(b)</td>\n      <td>(b)</td>\n      <td>0.66000</td>\n      <td>0.46800</td>\n      <td>34.783333</td>\n      <td>4.75</td>\n      <td>3.37</td>\n    </tr>\n    <tr>\n      <th>3</th>\n      <td>1968</td>\n      <td>Arkansas</td>\n      <td>1.25/day(b)</td>\n      <td>(b)</td>\n      <td>0.15625</td>\n      <td>0.15625</td>\n      <td>34.783333</td>\n      <td>1.12</td>\n      <td>1.12</td>\n    </tr>\n    <tr>\n      <th>4</th>\n      <td>1968</td>\n      <td>California</td>\n      <td>1.65(b)</td>\n      <td>(b)</td>\n      <td>1.65000</td>\n      <td>1.65000</td>\n      <td>34.783333</td>\n      <td>11.88</td>\n      <td>11.88</td>\n    </tr>\n  </tbody>\n</table>\n</div>"
     },
     "metadata": {},
     "execution_count": 34
    }
   ],
   "source": [
    "df.head()"
   ]
  },
  {
   "cell_type": "markdown",
   "metadata": {},
   "source": [
    "### as you can see, Alabama just has \"...\" for table_data and 000 for many things. Furthermore, Kaggle description links us to the source of the data: https://www.dol.gov/agencies/whd/state/minimum-wage/history\n",
    "\n",
    "### as you can see, Alabama has nothing in its entries!"
   ]
  },
  {
   "cell_type": "code",
   "execution_count": 36,
   "metadata": {},
   "outputs": [
    {
     "output_type": "execute_result",
     "data": {
      "text/plain": "    Year     State Table_Data Footnote  High.Value  Low.Value  CPI.Average  \\\n0   1968   Alabama        ...      NaN         0.0        0.0    34.783333   \n10  1968   Florida        ...      NaN         0.0        0.0    34.783333   \n11  1968   Georgia        ...      NaN         0.0        0.0    34.783333   \n15  1968  Illinois        ...      NaN         0.0        0.0    34.783333   \n17  1968      Iowa        ...      NaN         0.0        0.0    34.783333   \n\n    High.2018  Low.2018  \n0         0.0       0.0  \n10        0.0       0.0  \n11        0.0       0.0  \n15        0.0       0.0  \n17        0.0       0.0  ",
      "text/html": "<div>\n<style scoped>\n    .dataframe tbody tr th:only-of-type {\n        vertical-align: middle;\n    }\n\n    .dataframe tbody tr th {\n        vertical-align: top;\n    }\n\n    .dataframe thead th {\n        text-align: right;\n    }\n</style>\n<table border=\"1\" class=\"dataframe\">\n  <thead>\n    <tr style=\"text-align: right;\">\n      <th></th>\n      <th>Year</th>\n      <th>State</th>\n      <th>Table_Data</th>\n      <th>Footnote</th>\n      <th>High.Value</th>\n      <th>Low.Value</th>\n      <th>CPI.Average</th>\n      <th>High.2018</th>\n      <th>Low.2018</th>\n    </tr>\n  </thead>\n  <tbody>\n    <tr>\n      <th>0</th>\n      <td>1968</td>\n      <td>Alabama</td>\n      <td>...</td>\n      <td>NaN</td>\n      <td>0.0</td>\n      <td>0.0</td>\n      <td>34.783333</td>\n      <td>0.0</td>\n      <td>0.0</td>\n    </tr>\n    <tr>\n      <th>10</th>\n      <td>1968</td>\n      <td>Florida</td>\n      <td>...</td>\n      <td>NaN</td>\n      <td>0.0</td>\n      <td>0.0</td>\n      <td>34.783333</td>\n      <td>0.0</td>\n      <td>0.0</td>\n    </tr>\n    <tr>\n      <th>11</th>\n      <td>1968</td>\n      <td>Georgia</td>\n      <td>...</td>\n      <td>NaN</td>\n      <td>0.0</td>\n      <td>0.0</td>\n      <td>34.783333</td>\n      <td>0.0</td>\n      <td>0.0</td>\n    </tr>\n    <tr>\n      <th>15</th>\n      <td>1968</td>\n      <td>Illinois</td>\n      <td>...</td>\n      <td>NaN</td>\n      <td>0.0</td>\n      <td>0.0</td>\n      <td>34.783333</td>\n      <td>0.0</td>\n      <td>0.0</td>\n    </tr>\n    <tr>\n      <th>17</th>\n      <td>1968</td>\n      <td>Iowa</td>\n      <td>...</td>\n      <td>NaN</td>\n      <td>0.0</td>\n      <td>0.0</td>\n      <td>34.783333</td>\n      <td>0.0</td>\n      <td>0.0</td>\n    </tr>\n  </tbody>\n</table>\n</div>"
     },
     "metadata": {},
     "execution_count": 36
    }
   ],
   "source": [
    "issue_df = df[df['Low.2018'] == 0]\n",
    "issue_df.head()"
   ]
  },
  {
   "cell_type": "code",
   "execution_count": 39,
   "metadata": {},
   "outputs": [
    {
     "output_type": "execute_result",
     "data": {
      "text/plain": "array(['Alabama', 'Florida', 'Georgia', 'Illinois', 'Iowa', 'Kansas',\n       'Louisiana', 'Mississippi', 'Missouri', 'Montana',\n       'South Carolina', 'Tennessee', 'Texas', 'Virginia', 'Arizona'],\n      dtype=object)"
     },
     "metadata": {},
     "execution_count": 39
    }
   ],
   "source": [
    "issue_df[\"State\"].unique()"
   ]
  },
  {
   "cell_type": "markdown",
   "metadata": {},
   "source": [
    "### now we can see which states are the ones with issues. Remove them."
   ]
  },
  {
   "cell_type": "code",
   "execution_count": 41,
   "metadata": {},
   "outputs": [
    {
     "output_type": "execute_result",
     "data": {
      "text/plain": "               Alaska  Arkansas  California  Colorado  Connecticut  Delaware  \\\nAlaska       1.000000 -0.377934    0.717653 -0.129332     0.680886  0.258997   \nArkansas    -0.377934  1.000000   -0.234367  0.135749     0.047580  0.016125   \nCalifornia   0.717653 -0.234367    1.000000  0.483313     0.876215  0.479197   \nColorado    -0.129332  0.135749    0.483313  1.000000     0.402020  0.566304   \nConnecticut  0.680886  0.047580    0.876215  0.402020     1.000000  0.552613   \n\n             District of Columbia  Federal (FLSA)      Guam    Hawaii  ...  \\\nAlaska                   0.321785        0.637679  0.787915  0.672620  ...   \nArkansas                 0.266889        0.117245  0.039593  0.204801  ...   \nCalifornia               0.596865        0.371966  0.492052  0.519241  ...   \nColorado                 0.673371       -0.232035 -0.192616  0.069800  ...   \nConnecticut              0.652488        0.487750  0.632073  0.621503  ...   \n\n             Pennsylvania  Puerto Rico  Rhode Island  South Dakota      Utah  \\\nAlaska           0.610814    -0.038118      0.652353     -0.326316 -0.020462   \nArkansas         0.159923     0.232186      0.003498      0.800116  0.194680   \nCalifornia       0.429061     0.512712      0.780916     -0.036787  0.392898   \nColorado        -0.136195     0.657364      0.429852      0.399137  0.622330   \nConnecticut      0.531769     0.626712      0.802485      0.105707  0.302538   \n\n              Vermont  Washington  West Virginia  Wisconsin   Wyoming  \nAlaska       0.663558    0.411593       0.044814   0.702570  0.727932  \nArkansas     0.087429   -0.072343       0.420819   0.000470 -0.250592  \nCalifornia   0.877922    0.754085       0.371765   0.584067  0.722617  \nColorado     0.448485    0.612637       0.533623   0.011501  0.130053  \nConnecticut  0.898469    0.715691       0.400099   0.585790  0.814971  \n\n[5 rows x 39 columns]",
      "text/html": "<div>\n<style scoped>\n    .dataframe tbody tr th:only-of-type {\n        vertical-align: middle;\n    }\n\n    .dataframe tbody tr th {\n        vertical-align: top;\n    }\n\n    .dataframe thead th {\n        text-align: right;\n    }\n</style>\n<table border=\"1\" class=\"dataframe\">\n  <thead>\n    <tr style=\"text-align: right;\">\n      <th></th>\n      <th>Alaska</th>\n      <th>Arkansas</th>\n      <th>California</th>\n      <th>Colorado</th>\n      <th>Connecticut</th>\n      <th>Delaware</th>\n      <th>District of Columbia</th>\n      <th>Federal (FLSA)</th>\n      <th>Guam</th>\n      <th>Hawaii</th>\n      <th>...</th>\n      <th>Pennsylvania</th>\n      <th>Puerto Rico</th>\n      <th>Rhode Island</th>\n      <th>South Dakota</th>\n      <th>Utah</th>\n      <th>Vermont</th>\n      <th>Washington</th>\n      <th>West Virginia</th>\n      <th>Wisconsin</th>\n      <th>Wyoming</th>\n    </tr>\n  </thead>\n  <tbody>\n    <tr>\n      <th>Alaska</th>\n      <td>1.000000</td>\n      <td>-0.377934</td>\n      <td>0.717653</td>\n      <td>-0.129332</td>\n      <td>0.680886</td>\n      <td>0.258997</td>\n      <td>0.321785</td>\n      <td>0.637679</td>\n      <td>0.787915</td>\n      <td>0.672620</td>\n      <td>...</td>\n      <td>0.610814</td>\n      <td>-0.038118</td>\n      <td>0.652353</td>\n      <td>-0.326316</td>\n      <td>-0.020462</td>\n      <td>0.663558</td>\n      <td>0.411593</td>\n      <td>0.044814</td>\n      <td>0.702570</td>\n      <td>0.727932</td>\n    </tr>\n    <tr>\n      <th>Arkansas</th>\n      <td>-0.377934</td>\n      <td>1.000000</td>\n      <td>-0.234367</td>\n      <td>0.135749</td>\n      <td>0.047580</td>\n      <td>0.016125</td>\n      <td>0.266889</td>\n      <td>0.117245</td>\n      <td>0.039593</td>\n      <td>0.204801</td>\n      <td>...</td>\n      <td>0.159923</td>\n      <td>0.232186</td>\n      <td>0.003498</td>\n      <td>0.800116</td>\n      <td>0.194680</td>\n      <td>0.087429</td>\n      <td>-0.072343</td>\n      <td>0.420819</td>\n      <td>0.000470</td>\n      <td>-0.250592</td>\n    </tr>\n    <tr>\n      <th>California</th>\n      <td>0.717653</td>\n      <td>-0.234367</td>\n      <td>1.000000</td>\n      <td>0.483313</td>\n      <td>0.876215</td>\n      <td>0.479197</td>\n      <td>0.596865</td>\n      <td>0.371966</td>\n      <td>0.492052</td>\n      <td>0.519241</td>\n      <td>...</td>\n      <td>0.429061</td>\n      <td>0.512712</td>\n      <td>0.780916</td>\n      <td>-0.036787</td>\n      <td>0.392898</td>\n      <td>0.877922</td>\n      <td>0.754085</td>\n      <td>0.371765</td>\n      <td>0.584067</td>\n      <td>0.722617</td>\n    </tr>\n    <tr>\n      <th>Colorado</th>\n      <td>-0.129332</td>\n      <td>0.135749</td>\n      <td>0.483313</td>\n      <td>1.000000</td>\n      <td>0.402020</td>\n      <td>0.566304</td>\n      <td>0.673371</td>\n      <td>-0.232035</td>\n      <td>-0.192616</td>\n      <td>0.069800</td>\n      <td>...</td>\n      <td>-0.136195</td>\n      <td>0.657364</td>\n      <td>0.429852</td>\n      <td>0.399137</td>\n      <td>0.622330</td>\n      <td>0.448485</td>\n      <td>0.612637</td>\n      <td>0.533623</td>\n      <td>0.011501</td>\n      <td>0.130053</td>\n    </tr>\n    <tr>\n      <th>Connecticut</th>\n      <td>0.680886</td>\n      <td>0.047580</td>\n      <td>0.876215</td>\n      <td>0.402020</td>\n      <td>1.000000</td>\n      <td>0.552613</td>\n      <td>0.652488</td>\n      <td>0.487750</td>\n      <td>0.632073</td>\n      <td>0.621503</td>\n      <td>...</td>\n      <td>0.531769</td>\n      <td>0.626712</td>\n      <td>0.802485</td>\n      <td>0.105707</td>\n      <td>0.302538</td>\n      <td>0.898469</td>\n      <td>0.715691</td>\n      <td>0.400099</td>\n      <td>0.585790</td>\n      <td>0.814971</td>\n    </tr>\n  </tbody>\n</table>\n<p>5 rows × 39 columns</p>\n</div>"
     },
     "metadata": {},
     "execution_count": 41
    }
   ],
   "source": [
    "import numpy as np\n",
    "\n",
    "act_min_wage.replace(0, np.NaN).dropna(axis = 1).corr().head()"
   ]
  },
  {
   "cell_type": "markdown",
   "metadata": {},
   "source": [
    "### what we did: \n",
    "\n",
    "### 1. convert 0s to NaN: this is most likely how the people who collected the data are trying to imply. Texas (which has 0) actually has minimum wage, which means they just could not get the data they wanted.\n",
    "\n",
    "### 2. drop COLUMNS with NaN NOT ROWS!!: by default, axis = 0 means we remove the rows, which would most likely result in alot of rows disappearing. minimise this by removing the columns!\n",
    "\n",
    "### now we have the states that have min wage data. Specifically though, we do not actually know if it's no data or actually 0. in some cases, countries might not intially have any data but then have min wage!"
   ]
  },
  {
   "cell_type": "code",
   "execution_count": 44,
   "metadata": {},
   "outputs": [],
   "source": [
    "min_wage_corr = act_min_wage.replace(0, np.NaN).dropna(axis = 1).corr()\n",
    "\n",
    "# checking to see if any states with NaN issues are still inside or \"fixed\" data\n",
    "# if nothing runs, means it works!\n",
    "for problem in issue_df[\"State\"].unique():\n",
    "    if problem in min_wage_corr.columns:\n",
    "        print(\"we're missing smth here...\")"
   ]
  },
  {
   "cell_type": "code",
   "execution_count": 48,
   "metadata": {},
   "outputs": [],
   "source": [
    "# we could also be more specific by checking if the entire column of an entry with NaN is all full of NaN. If it's not all 0s ie not all NaNs, it could mean that over the years, a certain state could finally implement minimum wage laws that were able to be recorded by the researchers!\n",
    "\n",
    "grouped_issues = issue_df.groupby(\"State\")\n",
    "\n",
    "# grouped_issues.get_group(\"Alabama\").head(3) \n",
    "# as you can see the 0s have not been dropped. lets check if the entire column is just all 0s\n",
    "\n",
    "# if everything is all 0, it would mean that the sum of that column would still be 0!!!\n",
    "# grouped_issues.get_group(\"Alabama\")[\"Low.2018\"].sum() # returns 0.0\n",
    "\n",
    "# iterate over all the problem states\n",
    "for group, data in grouped_issues:\n",
    "    if data[\"Low.2018\"].sum() != 0.0:\n",
    "        print(\"we missed something\")\n",
    "\n",
    "# returns nothing which means all of them had no data in them!!!"
   ]
  },
  {
   "cell_type": "code",
   "execution_count": null,
   "metadata": {},
   "outputs": [],
   "source": []
  }
 ],
 "metadata": {
  "language_info": {
   "codemirror_mode": {
    "name": "ipython",
    "version": 3
   },
   "file_extension": ".py",
   "mimetype": "text/x-python",
   "name": "python",
   "nbconvert_exporter": "python",
   "pygments_lexer": "ipython3",
   "version": "3.5.4-final"
  },
  "orig_nbformat": 2,
  "kernelspec": {
   "name": "python35464bit846037f6322143c096c385b3f70ce6e5",
   "display_name": "Python 3.5.4 64-bit"
  }
 },
 "nbformat": 4,
 "nbformat_minor": 2
}